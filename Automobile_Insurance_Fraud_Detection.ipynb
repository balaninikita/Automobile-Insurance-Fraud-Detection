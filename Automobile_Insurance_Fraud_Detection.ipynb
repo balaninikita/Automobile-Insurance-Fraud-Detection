{
 "cells": [
  {
   "cell_type": "code",
   "execution_count": 1,
   "metadata": {},
   "outputs": [],
   "source": [
    "import pandas as pd\n",
    "from imblearn.over_sampling import SMOTE\n",
    "from sklearn.preprocessing import StandardScaler\n",
    "from sklearn.neighbors import KNeighborsClassifier\n",
    "from sklearn.ensemble import RandomForestClassifier\n",
    "from sklearn.decomposition import PCA\n",
    "import numpy as np\n",
    "from sklearn.model_selection import train_test_split,RandomizedSearchCV\n",
    "from sklearn.svm import SVC\n",
    "from sklearn.metrics import accuracy_score, confusion_matrix, classification_report\n",
    "from sklearn.tree import DecisionTreeClassifier\n",
    "from sklearn.model_selection import GridSearchCV\n",
    "import matplotlib.pyplot as plt\n",
    "import plotly.express as px\n",
    "from sklearn.metrics import roc_curve, auc\n",
    "from sklearn.metrics import roc_auc_score\n",
    "\n"
   ]
  },
  {
   "cell_type": "markdown",
   "metadata": {},
   "source": [
    "### Loading Dataset"
   ]
  },
  {
   "cell_type": "code",
   "execution_count": 2,
   "metadata": {},
   "outputs": [],
   "source": [
    "df = pd.read_csv('insurance_claims.csv')"
   ]
  },
  {
   "cell_type": "code",
   "execution_count": 3,
   "metadata": {},
   "outputs": [
    {
     "data": {
      "text/html": [
       "<div>\n",
       "<style scoped>\n",
       "    .dataframe tbody tr th:only-of-type {\n",
       "        vertical-align: middle;\n",
       "    }\n",
       "\n",
       "    .dataframe tbody tr th {\n",
       "        vertical-align: top;\n",
       "    }\n",
       "\n",
       "    .dataframe thead th {\n",
       "        text-align: right;\n",
       "    }\n",
       "</style>\n",
       "<table border=\"1\" class=\"dataframe\">\n",
       "  <thead>\n",
       "    <tr style=\"text-align: right;\">\n",
       "      <th></th>\n",
       "      <th>months_as_customer</th>\n",
       "      <th>age</th>\n",
       "      <th>policy_number</th>\n",
       "      <th>policy_bind_date</th>\n",
       "      <th>policy_state</th>\n",
       "      <th>policy_csl</th>\n",
       "      <th>policy_deductable</th>\n",
       "      <th>policy_annual_premium</th>\n",
       "      <th>umbrella_limit</th>\n",
       "      <th>insured_zip</th>\n",
       "      <th>...</th>\n",
       "      <th>police_report_available</th>\n",
       "      <th>total_claim_amount</th>\n",
       "      <th>injury_claim</th>\n",
       "      <th>property_claim</th>\n",
       "      <th>vehicle_claim</th>\n",
       "      <th>auto_make</th>\n",
       "      <th>auto_model</th>\n",
       "      <th>auto_year</th>\n",
       "      <th>fraud_reported</th>\n",
       "      <th>_c39</th>\n",
       "    </tr>\n",
       "  </thead>\n",
       "  <tbody>\n",
       "    <tr>\n",
       "      <th>0</th>\n",
       "      <td>328</td>\n",
       "      <td>48</td>\n",
       "      <td>521585</td>\n",
       "      <td>2014-10-17</td>\n",
       "      <td>OH</td>\n",
       "      <td>250/500</td>\n",
       "      <td>1000</td>\n",
       "      <td>1406.91</td>\n",
       "      <td>0</td>\n",
       "      <td>466132</td>\n",
       "      <td>...</td>\n",
       "      <td>YES</td>\n",
       "      <td>71610</td>\n",
       "      <td>6510</td>\n",
       "      <td>13020</td>\n",
       "      <td>52080</td>\n",
       "      <td>Saab</td>\n",
       "      <td>92x</td>\n",
       "      <td>2004</td>\n",
       "      <td>Y</td>\n",
       "      <td>NaN</td>\n",
       "    </tr>\n",
       "    <tr>\n",
       "      <th>1</th>\n",
       "      <td>228</td>\n",
       "      <td>42</td>\n",
       "      <td>342868</td>\n",
       "      <td>2006-06-27</td>\n",
       "      <td>IN</td>\n",
       "      <td>250/500</td>\n",
       "      <td>2000</td>\n",
       "      <td>1197.22</td>\n",
       "      <td>5000000</td>\n",
       "      <td>468176</td>\n",
       "      <td>...</td>\n",
       "      <td>?</td>\n",
       "      <td>5070</td>\n",
       "      <td>780</td>\n",
       "      <td>780</td>\n",
       "      <td>3510</td>\n",
       "      <td>Mercedes</td>\n",
       "      <td>E400</td>\n",
       "      <td>2007</td>\n",
       "      <td>Y</td>\n",
       "      <td>NaN</td>\n",
       "    </tr>\n",
       "    <tr>\n",
       "      <th>2</th>\n",
       "      <td>134</td>\n",
       "      <td>29</td>\n",
       "      <td>687698</td>\n",
       "      <td>2000-09-06</td>\n",
       "      <td>OH</td>\n",
       "      <td>100/300</td>\n",
       "      <td>2000</td>\n",
       "      <td>1413.14</td>\n",
       "      <td>5000000</td>\n",
       "      <td>430632</td>\n",
       "      <td>...</td>\n",
       "      <td>NO</td>\n",
       "      <td>34650</td>\n",
       "      <td>7700</td>\n",
       "      <td>3850</td>\n",
       "      <td>23100</td>\n",
       "      <td>Dodge</td>\n",
       "      <td>RAM</td>\n",
       "      <td>2007</td>\n",
       "      <td>N</td>\n",
       "      <td>NaN</td>\n",
       "    </tr>\n",
       "    <tr>\n",
       "      <th>3</th>\n",
       "      <td>256</td>\n",
       "      <td>41</td>\n",
       "      <td>227811</td>\n",
       "      <td>1990-05-25</td>\n",
       "      <td>IL</td>\n",
       "      <td>250/500</td>\n",
       "      <td>2000</td>\n",
       "      <td>1415.74</td>\n",
       "      <td>6000000</td>\n",
       "      <td>608117</td>\n",
       "      <td>...</td>\n",
       "      <td>NO</td>\n",
       "      <td>63400</td>\n",
       "      <td>6340</td>\n",
       "      <td>6340</td>\n",
       "      <td>50720</td>\n",
       "      <td>Chevrolet</td>\n",
       "      <td>Tahoe</td>\n",
       "      <td>2014</td>\n",
       "      <td>Y</td>\n",
       "      <td>NaN</td>\n",
       "    </tr>\n",
       "    <tr>\n",
       "      <th>4</th>\n",
       "      <td>228</td>\n",
       "      <td>44</td>\n",
       "      <td>367455</td>\n",
       "      <td>2014-06-06</td>\n",
       "      <td>IL</td>\n",
       "      <td>500/1000</td>\n",
       "      <td>1000</td>\n",
       "      <td>1583.91</td>\n",
       "      <td>6000000</td>\n",
       "      <td>610706</td>\n",
       "      <td>...</td>\n",
       "      <td>NO</td>\n",
       "      <td>6500</td>\n",
       "      <td>1300</td>\n",
       "      <td>650</td>\n",
       "      <td>4550</td>\n",
       "      <td>Accura</td>\n",
       "      <td>RSX</td>\n",
       "      <td>2009</td>\n",
       "      <td>N</td>\n",
       "      <td>NaN</td>\n",
       "    </tr>\n",
       "  </tbody>\n",
       "</table>\n",
       "<p>5 rows × 40 columns</p>\n",
       "</div>"
      ],
      "text/plain": [
       "   months_as_customer  age  policy_number policy_bind_date policy_state  \\\n",
       "0                 328   48         521585       2014-10-17           OH   \n",
       "1                 228   42         342868       2006-06-27           IN   \n",
       "2                 134   29         687698       2000-09-06           OH   \n",
       "3                 256   41         227811       1990-05-25           IL   \n",
       "4                 228   44         367455       2014-06-06           IL   \n",
       "\n",
       "  policy_csl  policy_deductable  policy_annual_premium  umbrella_limit  \\\n",
       "0    250/500               1000                1406.91               0   \n",
       "1    250/500               2000                1197.22         5000000   \n",
       "2    100/300               2000                1413.14         5000000   \n",
       "3    250/500               2000                1415.74         6000000   \n",
       "4   500/1000               1000                1583.91         6000000   \n",
       "\n",
       "   insured_zip  ... police_report_available total_claim_amount injury_claim  \\\n",
       "0       466132  ...                     YES              71610         6510   \n",
       "1       468176  ...                       ?               5070          780   \n",
       "2       430632  ...                      NO              34650         7700   \n",
       "3       608117  ...                      NO              63400         6340   \n",
       "4       610706  ...                      NO               6500         1300   \n",
       "\n",
       "  property_claim vehicle_claim  auto_make  auto_model auto_year  \\\n",
       "0          13020         52080       Saab         92x      2004   \n",
       "1            780          3510   Mercedes        E400      2007   \n",
       "2           3850         23100      Dodge         RAM      2007   \n",
       "3           6340         50720  Chevrolet       Tahoe      2014   \n",
       "4            650          4550     Accura         RSX      2009   \n",
       "\n",
       "  fraud_reported _c39  \n",
       "0              Y  NaN  \n",
       "1              Y  NaN  \n",
       "2              N  NaN  \n",
       "3              Y  NaN  \n",
       "4              N  NaN  \n",
       "\n",
       "[5 rows x 40 columns]"
      ]
     },
     "execution_count": 3,
     "metadata": {},
     "output_type": "execute_result"
    }
   ],
   "source": [
    "df.head()"
   ]
  },
  {
   "cell_type": "markdown",
   "metadata": {},
   "source": [
    "### Data Preprocessing"
   ]
  },
  {
   "cell_type": "code",
   "execution_count": 5,
   "metadata": {},
   "outputs": [
    {
     "data": {
      "text/plain": [
       "months_as_customer                0\n",
       "age                               0\n",
       "policy_number                     0\n",
       "policy_bind_date                  0\n",
       "policy_state                      0\n",
       "policy_csl                        0\n",
       "policy_deductable                 0\n",
       "policy_annual_premium             0\n",
       "umbrella_limit                    0\n",
       "insured_zip                       0\n",
       "insured_sex                       0\n",
       "insured_education_level           0\n",
       "insured_occupation                0\n",
       "insured_hobbies                   0\n",
       "insured_relationship              0\n",
       "capital-gains                     0\n",
       "capital-loss                      0\n",
       "incident_date                     0\n",
       "incident_type                     0\n",
       "collision_type                    0\n",
       "incident_severity                 0\n",
       "authorities_contacted             0\n",
       "incident_state                    0\n",
       "incident_city                     0\n",
       "incident_location                 0\n",
       "incident_hour_of_the_day          0\n",
       "number_of_vehicles_involved       0\n",
       "property_damage                   0\n",
       "bodily_injuries                   0\n",
       "witnesses                         0\n",
       "police_report_available           0\n",
       "total_claim_amount                0\n",
       "injury_claim                      0\n",
       "property_claim                    0\n",
       "vehicle_claim                     0\n",
       "auto_make                         0\n",
       "auto_model                        0\n",
       "auto_year                         0\n",
       "fraud_reported                    0\n",
       "_c39                           1000\n",
       "dtype: int64"
      ]
     },
     "execution_count": 5,
     "metadata": {},
     "output_type": "execute_result"
    }
   ],
   "source": [
    "df.isnull().sum()"
   ]
  },
  {
   "cell_type": "code",
   "execution_count": 5,
   "metadata": {},
   "outputs": [],
   "source": [
    "## Dropping _c39 as it has maximum nulls and of no use for our analysis"
   ]
  },
  {
   "cell_type": "code",
   "execution_count": 6,
   "metadata": {},
   "outputs": [],
   "source": [
    "df.drop('_c39',axis='columns', inplace=True)"
   ]
  },
  {
   "cell_type": "code",
   "execution_count": 7,
   "metadata": {},
   "outputs": [
    {
     "data": {
      "text/html": [
       "<div>\n",
       "<style scoped>\n",
       "    .dataframe tbody tr th:only-of-type {\n",
       "        vertical-align: middle;\n",
       "    }\n",
       "\n",
       "    .dataframe tbody tr th {\n",
       "        vertical-align: top;\n",
       "    }\n",
       "\n",
       "    .dataframe thead th {\n",
       "        text-align: right;\n",
       "    }\n",
       "</style>\n",
       "<table border=\"1\" class=\"dataframe\">\n",
       "  <thead>\n",
       "    <tr style=\"text-align: right;\">\n",
       "      <th></th>\n",
       "      <th>count</th>\n",
       "      <th>mean</th>\n",
       "      <th>std</th>\n",
       "      <th>min</th>\n",
       "      <th>25%</th>\n",
       "      <th>50%</th>\n",
       "      <th>75%</th>\n",
       "      <th>max</th>\n",
       "    </tr>\n",
       "  </thead>\n",
       "  <tbody>\n",
       "    <tr>\n",
       "      <th>months_as_customer</th>\n",
       "      <td>1000.0</td>\n",
       "      <td>2.039540e+02</td>\n",
       "      <td>1.151132e+02</td>\n",
       "      <td>0.00</td>\n",
       "      <td>115.7500</td>\n",
       "      <td>199.5</td>\n",
       "      <td>276.250</td>\n",
       "      <td>479.00</td>\n",
       "    </tr>\n",
       "    <tr>\n",
       "      <th>age</th>\n",
       "      <td>1000.0</td>\n",
       "      <td>3.894800e+01</td>\n",
       "      <td>9.140287e+00</td>\n",
       "      <td>19.00</td>\n",
       "      <td>32.0000</td>\n",
       "      <td>38.0</td>\n",
       "      <td>44.000</td>\n",
       "      <td>64.00</td>\n",
       "    </tr>\n",
       "    <tr>\n",
       "      <th>policy_number</th>\n",
       "      <td>1000.0</td>\n",
       "      <td>5.462386e+05</td>\n",
       "      <td>2.570630e+05</td>\n",
       "      <td>100804.00</td>\n",
       "      <td>335980.2500</td>\n",
       "      <td>533135.0</td>\n",
       "      <td>759099.750</td>\n",
       "      <td>999435.00</td>\n",
       "    </tr>\n",
       "    <tr>\n",
       "      <th>policy_deductable</th>\n",
       "      <td>1000.0</td>\n",
       "      <td>1.136000e+03</td>\n",
       "      <td>6.118647e+02</td>\n",
       "      <td>500.00</td>\n",
       "      <td>500.0000</td>\n",
       "      <td>1000.0</td>\n",
       "      <td>2000.000</td>\n",
       "      <td>2000.00</td>\n",
       "    </tr>\n",
       "    <tr>\n",
       "      <th>policy_annual_premium</th>\n",
       "      <td>1000.0</td>\n",
       "      <td>1.256406e+03</td>\n",
       "      <td>2.441674e+02</td>\n",
       "      <td>433.33</td>\n",
       "      <td>1089.6075</td>\n",
       "      <td>1257.2</td>\n",
       "      <td>1415.695</td>\n",
       "      <td>2047.59</td>\n",
       "    </tr>\n",
       "    <tr>\n",
       "      <th>umbrella_limit</th>\n",
       "      <td>1000.0</td>\n",
       "      <td>1.101000e+06</td>\n",
       "      <td>2.297407e+06</td>\n",
       "      <td>-1000000.00</td>\n",
       "      <td>0.0000</td>\n",
       "      <td>0.0</td>\n",
       "      <td>0.000</td>\n",
       "      <td>10000000.00</td>\n",
       "    </tr>\n",
       "    <tr>\n",
       "      <th>insured_zip</th>\n",
       "      <td>1000.0</td>\n",
       "      <td>5.012145e+05</td>\n",
       "      <td>7.170161e+04</td>\n",
       "      <td>430104.00</td>\n",
       "      <td>448404.5000</td>\n",
       "      <td>466445.5</td>\n",
       "      <td>603251.000</td>\n",
       "      <td>620962.00</td>\n",
       "    </tr>\n",
       "    <tr>\n",
       "      <th>capital-gains</th>\n",
       "      <td>1000.0</td>\n",
       "      <td>2.512610e+04</td>\n",
       "      <td>2.787219e+04</td>\n",
       "      <td>0.00</td>\n",
       "      <td>0.0000</td>\n",
       "      <td>0.0</td>\n",
       "      <td>51025.000</td>\n",
       "      <td>100500.00</td>\n",
       "    </tr>\n",
       "    <tr>\n",
       "      <th>capital-loss</th>\n",
       "      <td>1000.0</td>\n",
       "      <td>-2.679370e+04</td>\n",
       "      <td>2.810410e+04</td>\n",
       "      <td>-111100.00</td>\n",
       "      <td>-51500.0000</td>\n",
       "      <td>-23250.0</td>\n",
       "      <td>0.000</td>\n",
       "      <td>0.00</td>\n",
       "    </tr>\n",
       "    <tr>\n",
       "      <th>incident_hour_of_the_day</th>\n",
       "      <td>1000.0</td>\n",
       "      <td>1.164400e+01</td>\n",
       "      <td>6.951373e+00</td>\n",
       "      <td>0.00</td>\n",
       "      <td>6.0000</td>\n",
       "      <td>12.0</td>\n",
       "      <td>17.000</td>\n",
       "      <td>23.00</td>\n",
       "    </tr>\n",
       "    <tr>\n",
       "      <th>number_of_vehicles_involved</th>\n",
       "      <td>1000.0</td>\n",
       "      <td>1.839000e+00</td>\n",
       "      <td>1.018880e+00</td>\n",
       "      <td>1.00</td>\n",
       "      <td>1.0000</td>\n",
       "      <td>1.0</td>\n",
       "      <td>3.000</td>\n",
       "      <td>4.00</td>\n",
       "    </tr>\n",
       "    <tr>\n",
       "      <th>bodily_injuries</th>\n",
       "      <td>1000.0</td>\n",
       "      <td>9.920000e-01</td>\n",
       "      <td>8.201272e-01</td>\n",
       "      <td>0.00</td>\n",
       "      <td>0.0000</td>\n",
       "      <td>1.0</td>\n",
       "      <td>2.000</td>\n",
       "      <td>2.00</td>\n",
       "    </tr>\n",
       "    <tr>\n",
       "      <th>witnesses</th>\n",
       "      <td>1000.0</td>\n",
       "      <td>1.487000e+00</td>\n",
       "      <td>1.111335e+00</td>\n",
       "      <td>0.00</td>\n",
       "      <td>1.0000</td>\n",
       "      <td>1.0</td>\n",
       "      <td>2.000</td>\n",
       "      <td>3.00</td>\n",
       "    </tr>\n",
       "    <tr>\n",
       "      <th>total_claim_amount</th>\n",
       "      <td>1000.0</td>\n",
       "      <td>5.276194e+04</td>\n",
       "      <td>2.640153e+04</td>\n",
       "      <td>100.00</td>\n",
       "      <td>41812.5000</td>\n",
       "      <td>58055.0</td>\n",
       "      <td>70592.500</td>\n",
       "      <td>114920.00</td>\n",
       "    </tr>\n",
       "    <tr>\n",
       "      <th>injury_claim</th>\n",
       "      <td>1000.0</td>\n",
       "      <td>7.433420e+03</td>\n",
       "      <td>4.880952e+03</td>\n",
       "      <td>0.00</td>\n",
       "      <td>4295.0000</td>\n",
       "      <td>6775.0</td>\n",
       "      <td>11305.000</td>\n",
       "      <td>21450.00</td>\n",
       "    </tr>\n",
       "    <tr>\n",
       "      <th>property_claim</th>\n",
       "      <td>1000.0</td>\n",
       "      <td>7.399570e+03</td>\n",
       "      <td>4.824726e+03</td>\n",
       "      <td>0.00</td>\n",
       "      <td>4445.0000</td>\n",
       "      <td>6750.0</td>\n",
       "      <td>10885.000</td>\n",
       "      <td>23670.00</td>\n",
       "    </tr>\n",
       "    <tr>\n",
       "      <th>vehicle_claim</th>\n",
       "      <td>1000.0</td>\n",
       "      <td>3.792895e+04</td>\n",
       "      <td>1.888625e+04</td>\n",
       "      <td>70.00</td>\n",
       "      <td>30292.5000</td>\n",
       "      <td>42100.0</td>\n",
       "      <td>50822.500</td>\n",
       "      <td>79560.00</td>\n",
       "    </tr>\n",
       "    <tr>\n",
       "      <th>auto_year</th>\n",
       "      <td>1000.0</td>\n",
       "      <td>2.005103e+03</td>\n",
       "      <td>6.015861e+00</td>\n",
       "      <td>1995.00</td>\n",
       "      <td>2000.0000</td>\n",
       "      <td>2005.0</td>\n",
       "      <td>2010.000</td>\n",
       "      <td>2015.00</td>\n",
       "    </tr>\n",
       "  </tbody>\n",
       "</table>\n",
       "</div>"
      ],
      "text/plain": [
       "                              count          mean           std         min  \\\n",
       "months_as_customer           1000.0  2.039540e+02  1.151132e+02        0.00   \n",
       "age                          1000.0  3.894800e+01  9.140287e+00       19.00   \n",
       "policy_number                1000.0  5.462386e+05  2.570630e+05   100804.00   \n",
       "policy_deductable            1000.0  1.136000e+03  6.118647e+02      500.00   \n",
       "policy_annual_premium        1000.0  1.256406e+03  2.441674e+02      433.33   \n",
       "umbrella_limit               1000.0  1.101000e+06  2.297407e+06 -1000000.00   \n",
       "insured_zip                  1000.0  5.012145e+05  7.170161e+04   430104.00   \n",
       "capital-gains                1000.0  2.512610e+04  2.787219e+04        0.00   \n",
       "capital-loss                 1000.0 -2.679370e+04  2.810410e+04  -111100.00   \n",
       "incident_hour_of_the_day     1000.0  1.164400e+01  6.951373e+00        0.00   \n",
       "number_of_vehicles_involved  1000.0  1.839000e+00  1.018880e+00        1.00   \n",
       "bodily_injuries              1000.0  9.920000e-01  8.201272e-01        0.00   \n",
       "witnesses                    1000.0  1.487000e+00  1.111335e+00        0.00   \n",
       "total_claim_amount           1000.0  5.276194e+04  2.640153e+04      100.00   \n",
       "injury_claim                 1000.0  7.433420e+03  4.880952e+03        0.00   \n",
       "property_claim               1000.0  7.399570e+03  4.824726e+03        0.00   \n",
       "vehicle_claim                1000.0  3.792895e+04  1.888625e+04       70.00   \n",
       "auto_year                    1000.0  2.005103e+03  6.015861e+00     1995.00   \n",
       "\n",
       "                                     25%       50%         75%          max  \n",
       "months_as_customer              115.7500     199.5     276.250       479.00  \n",
       "age                              32.0000      38.0      44.000        64.00  \n",
       "policy_number                335980.2500  533135.0  759099.750    999435.00  \n",
       "policy_deductable               500.0000    1000.0    2000.000      2000.00  \n",
       "policy_annual_premium          1089.6075    1257.2    1415.695      2047.59  \n",
       "umbrella_limit                    0.0000       0.0       0.000  10000000.00  \n",
       "insured_zip                  448404.5000  466445.5  603251.000    620962.00  \n",
       "capital-gains                     0.0000       0.0   51025.000    100500.00  \n",
       "capital-loss                 -51500.0000  -23250.0       0.000         0.00  \n",
       "incident_hour_of_the_day          6.0000      12.0      17.000        23.00  \n",
       "number_of_vehicles_involved       1.0000       1.0       3.000         4.00  \n",
       "bodily_injuries                   0.0000       1.0       2.000         2.00  \n",
       "witnesses                         1.0000       1.0       2.000         3.00  \n",
       "total_claim_amount            41812.5000   58055.0   70592.500    114920.00  \n",
       "injury_claim                   4295.0000    6775.0   11305.000     21450.00  \n",
       "property_claim                 4445.0000    6750.0   10885.000     23670.00  \n",
       "vehicle_claim                 30292.5000   42100.0   50822.500     79560.00  \n",
       "auto_year                      2000.0000    2005.0    2010.000      2015.00  "
      ]
     },
     "execution_count": 7,
     "metadata": {},
     "output_type": "execute_result"
    }
   ],
   "source": [
    "df.describe().transpose()"
   ]
  },
  {
   "cell_type": "code",
   "execution_count": 8,
   "metadata": {},
   "outputs": [
    {
     "data": {
      "text/html": [
       "<div>\n",
       "<style scoped>\n",
       "    .dataframe tbody tr th:only-of-type {\n",
       "        vertical-align: middle;\n",
       "    }\n",
       "\n",
       "    .dataframe tbody tr th {\n",
       "        vertical-align: top;\n",
       "    }\n",
       "\n",
       "    .dataframe thead th {\n",
       "        text-align: right;\n",
       "    }\n",
       "</style>\n",
       "<table border=\"1\" class=\"dataframe\">\n",
       "  <thead>\n",
       "    <tr style=\"text-align: right;\">\n",
       "      <th></th>\n",
       "      <th>count</th>\n",
       "      <th>unique</th>\n",
       "      <th>top</th>\n",
       "      <th>freq</th>\n",
       "    </tr>\n",
       "  </thead>\n",
       "  <tbody>\n",
       "    <tr>\n",
       "      <th>policy_bind_date</th>\n",
       "      <td>1000</td>\n",
       "      <td>951</td>\n",
       "      <td>1992-08-05</td>\n",
       "      <td>3</td>\n",
       "    </tr>\n",
       "    <tr>\n",
       "      <th>policy_state</th>\n",
       "      <td>1000</td>\n",
       "      <td>3</td>\n",
       "      <td>OH</td>\n",
       "      <td>352</td>\n",
       "    </tr>\n",
       "    <tr>\n",
       "      <th>policy_csl</th>\n",
       "      <td>1000</td>\n",
       "      <td>3</td>\n",
       "      <td>250/500</td>\n",
       "      <td>351</td>\n",
       "    </tr>\n",
       "    <tr>\n",
       "      <th>insured_sex</th>\n",
       "      <td>1000</td>\n",
       "      <td>2</td>\n",
       "      <td>FEMALE</td>\n",
       "      <td>537</td>\n",
       "    </tr>\n",
       "    <tr>\n",
       "      <th>insured_education_level</th>\n",
       "      <td>1000</td>\n",
       "      <td>7</td>\n",
       "      <td>JD</td>\n",
       "      <td>161</td>\n",
       "    </tr>\n",
       "    <tr>\n",
       "      <th>insured_occupation</th>\n",
       "      <td>1000</td>\n",
       "      <td>14</td>\n",
       "      <td>machine-op-inspct</td>\n",
       "      <td>93</td>\n",
       "    </tr>\n",
       "    <tr>\n",
       "      <th>insured_hobbies</th>\n",
       "      <td>1000</td>\n",
       "      <td>20</td>\n",
       "      <td>reading</td>\n",
       "      <td>64</td>\n",
       "    </tr>\n",
       "    <tr>\n",
       "      <th>insured_relationship</th>\n",
       "      <td>1000</td>\n",
       "      <td>6</td>\n",
       "      <td>own-child</td>\n",
       "      <td>183</td>\n",
       "    </tr>\n",
       "    <tr>\n",
       "      <th>incident_date</th>\n",
       "      <td>1000</td>\n",
       "      <td>60</td>\n",
       "      <td>2015-02-02</td>\n",
       "      <td>28</td>\n",
       "    </tr>\n",
       "    <tr>\n",
       "      <th>incident_type</th>\n",
       "      <td>1000</td>\n",
       "      <td>4</td>\n",
       "      <td>Multi-vehicle Collision</td>\n",
       "      <td>419</td>\n",
       "    </tr>\n",
       "    <tr>\n",
       "      <th>collision_type</th>\n",
       "      <td>1000</td>\n",
       "      <td>4</td>\n",
       "      <td>Rear Collision</td>\n",
       "      <td>292</td>\n",
       "    </tr>\n",
       "    <tr>\n",
       "      <th>incident_severity</th>\n",
       "      <td>1000</td>\n",
       "      <td>4</td>\n",
       "      <td>Minor Damage</td>\n",
       "      <td>354</td>\n",
       "    </tr>\n",
       "    <tr>\n",
       "      <th>authorities_contacted</th>\n",
       "      <td>1000</td>\n",
       "      <td>5</td>\n",
       "      <td>Police</td>\n",
       "      <td>292</td>\n",
       "    </tr>\n",
       "    <tr>\n",
       "      <th>incident_state</th>\n",
       "      <td>1000</td>\n",
       "      <td>7</td>\n",
       "      <td>NY</td>\n",
       "      <td>262</td>\n",
       "    </tr>\n",
       "    <tr>\n",
       "      <th>incident_city</th>\n",
       "      <td>1000</td>\n",
       "      <td>7</td>\n",
       "      <td>Springfield</td>\n",
       "      <td>157</td>\n",
       "    </tr>\n",
       "    <tr>\n",
       "      <th>incident_location</th>\n",
       "      <td>1000</td>\n",
       "      <td>1000</td>\n",
       "      <td>4939 Best St</td>\n",
       "      <td>1</td>\n",
       "    </tr>\n",
       "    <tr>\n",
       "      <th>property_damage</th>\n",
       "      <td>1000</td>\n",
       "      <td>3</td>\n",
       "      <td>?</td>\n",
       "      <td>360</td>\n",
       "    </tr>\n",
       "    <tr>\n",
       "      <th>police_report_available</th>\n",
       "      <td>1000</td>\n",
       "      <td>3</td>\n",
       "      <td>NO</td>\n",
       "      <td>343</td>\n",
       "    </tr>\n",
       "    <tr>\n",
       "      <th>auto_make</th>\n",
       "      <td>1000</td>\n",
       "      <td>14</td>\n",
       "      <td>Saab</td>\n",
       "      <td>80</td>\n",
       "    </tr>\n",
       "    <tr>\n",
       "      <th>auto_model</th>\n",
       "      <td>1000</td>\n",
       "      <td>39</td>\n",
       "      <td>RAM</td>\n",
       "      <td>43</td>\n",
       "    </tr>\n",
       "    <tr>\n",
       "      <th>fraud_reported</th>\n",
       "      <td>1000</td>\n",
       "      <td>2</td>\n",
       "      <td>N</td>\n",
       "      <td>753</td>\n",
       "    </tr>\n",
       "  </tbody>\n",
       "</table>\n",
       "</div>"
      ],
      "text/plain": [
       "                        count unique                      top freq\n",
       "policy_bind_date         1000    951               1992-08-05    3\n",
       "policy_state             1000      3                       OH  352\n",
       "policy_csl               1000      3                  250/500  351\n",
       "insured_sex              1000      2                   FEMALE  537\n",
       "insured_education_level  1000      7                       JD  161\n",
       "insured_occupation       1000     14        machine-op-inspct   93\n",
       "insured_hobbies          1000     20                  reading   64\n",
       "insured_relationship     1000      6                own-child  183\n",
       "incident_date            1000     60               2015-02-02   28\n",
       "incident_type            1000      4  Multi-vehicle Collision  419\n",
       "collision_type           1000      4           Rear Collision  292\n",
       "incident_severity        1000      4             Minor Damage  354\n",
       "authorities_contacted    1000      5                   Police  292\n",
       "incident_state           1000      7                       NY  262\n",
       "incident_city            1000      7              Springfield  157\n",
       "incident_location        1000   1000             4939 Best St    1\n",
       "property_damage          1000      3                        ?  360\n",
       "police_report_available  1000      3                       NO  343\n",
       "auto_make                1000     14                     Saab   80\n",
       "auto_model               1000     39                      RAM   43\n",
       "fraud_reported           1000      2                        N  753"
      ]
     },
     "execution_count": 8,
     "metadata": {},
     "output_type": "execute_result"
    }
   ],
   "source": [
    "df.select_dtypes(include='object').describe().transpose()"
   ]
  },
  {
   "cell_type": "code",
   "execution_count": 9,
   "metadata": {},
   "outputs": [],
   "source": [
    "## We can convert date fields from object to date datatype "
   ]
  },
  {
   "cell_type": "code",
   "execution_count": 7,
   "metadata": {},
   "outputs": [],
   "source": [
    "df['policy_bind_date'] = pd.to_datetime(df['policy_bind_date'])\n",
    "df['incident_date'] = pd.to_datetime(df['incident_date'])"
   ]
  },
  {
   "cell_type": "code",
   "execution_count": 8,
   "metadata": {},
   "outputs": [
    {
     "name": "stderr",
     "output_type": "stream",
     "text": [
      "c:\\users\\sbalani\\appdata\\local\\programs\\python\\python37\\lib\\site-packages\\pandas\\core\\computation\\expressions.py:68: FutureWarning: elementwise comparison failed; returning scalar instead, but in the future will perform elementwise comparison\n",
      "  return op(a, b)\n",
      "c:\\users\\sbalani\\appdata\\local\\programs\\python\\python37\\lib\\site-packages\\pandas\\core\\computation\\expressions.py:68: FutureWarning: elementwise comparison failed; returning scalar instead, but in the future will perform elementwise comparison\n",
      "  return op(a, b)\n"
     ]
    },
    {
     "data": {
      "text/plain": [
       "Index(['collision_type', 'property_damage', 'police_report_available'], dtype='object')"
      ]
     },
     "execution_count": 8,
     "metadata": {},
     "output_type": "execute_result"
    }
   ],
   "source": [
    "# columns with ? entries\n",
    "df.columns[(df == '?').any()]"
   ]
  },
  {
   "cell_type": "code",
   "execution_count": 9,
   "metadata": {},
   "outputs": [
    {
     "name": "stderr",
     "output_type": "stream",
     "text": [
      "c:\\users\\sbalani\\appdata\\local\\programs\\python\\python37\\lib\\site-packages\\pandas\\core\\computation\\expressions.py:68: FutureWarning: elementwise comparison failed; returning scalar instead, but in the future will perform elementwise comparison\n",
      "  return op(a, b)\n",
      "c:\\users\\sbalani\\appdata\\local\\programs\\python\\python37\\lib\\site-packages\\pandas\\core\\computation\\expressions.py:68: FutureWarning: elementwise comparison failed; returning scalar instead, but in the future will perform elementwise comparison\n",
      "  return op(a, b)\n"
     ]
    },
    {
     "data": {
      "text/plain": [
       "collision_type             4\n",
       "property_damage            3\n",
       "police_report_available    3\n",
       "dtype: int64"
      ]
     },
     "execution_count": 9,
     "metadata": {},
     "output_type": "execute_result"
    }
   ],
   "source": [
    "df[df.columns[(df == '?').any()]].nunique()"
   ]
  },
  {
   "cell_type": "code",
   "execution_count": 13,
   "metadata": {},
   "outputs": [],
   "source": [
    "## We can replace ?  with unknown"
   ]
  },
  {
   "cell_type": "code",
   "execution_count": 10,
   "metadata": {},
   "outputs": [],
   "source": [
    "df['police_report_available'] = df['police_report_available'].replace(\"?\", \"unknown\")\n",
    "df['collision_type'] = df['collision_type'].replace(\"?\", \"unknown\")\n",
    "df['property_damage'] = df['property_damage'].replace(\"?\", \"unknown\")\n"
   ]
  },
  {
   "cell_type": "code",
   "execution_count": 15,
   "metadata": {},
   "outputs": [],
   "source": [
    "### Check for outliers"
   ]
  },
  {
   "cell_type": "code",
   "execution_count": 10,
   "metadata": {},
   "outputs": [
    {
     "data": {
      "text/plain": [
       "(array([ 1,  2,  3,  4,  5,  6,  7,  8,  9, 10, 11, 12, 13, 14, 15, 16, 17,\n",
       "        18]),\n",
       " [Text(1, 0, 'months_as_customer'),\n",
       "  Text(2, 0, 'age'),\n",
       "  Text(3, 0, 'policy_number'),\n",
       "  Text(4, 0, 'policy_deductable'),\n",
       "  Text(5, 0, 'policy_annual_premium'),\n",
       "  Text(6, 0, 'umbrella_limit'),\n",
       "  Text(7, 0, 'insured_zip'),\n",
       "  Text(8, 0, 'capital-gains'),\n",
       "  Text(9, 0, 'capital-loss'),\n",
       "  Text(10, 0, 'incident_hour_of_the_day'),\n",
       "  Text(11, 0, 'number_of_vehicles_involved'),\n",
       "  Text(12, 0, 'bodily_injuries'),\n",
       "  Text(13, 0, 'witnesses'),\n",
       "  Text(14, 0, 'total_claim_amount'),\n",
       "  Text(15, 0, 'injury_claim'),\n",
       "  Text(16, 0, 'property_claim'),\n",
       "  Text(17, 0, 'vehicle_claim'),\n",
       "  Text(18, 0, 'auto_year')])"
      ]
     },
     "execution_count": 10,
     "metadata": {},
     "output_type": "execute_result"
    },
    {
     "data": {
      "image/png": "[encoded data removed]",
      "text/plain": [
       "<Figure size 1440x432 with 1 Axes>"
      ]
     },
     "metadata": {
      "needs_background": "light"
     },
     "output_type": "display_data"
    }
   ],
   "source": [
    "df.plot.box(figsize = (20,6))\n",
    "plt.xticks(rotation = 90)"
   ]
  },
  {
   "cell_type": "code",
   "execution_count": 11,
   "metadata": {},
   "outputs": [
    {
     "data": {
      "text/plain": [
       "290    -1000000\n",
       "0             0\n",
       "623           0\n",
       "624           0\n",
       "625           0\n",
       "         ...   \n",
       "657     9000000\n",
       "458     9000000\n",
       "975     9000000\n",
       "430    10000000\n",
       "115    10000000\n",
       "Name: umbrella_limit, Length: 1000, dtype: int64"
      ]
     },
     "execution_count": 11,
     "metadata": {},
     "output_type": "execute_result"
    }
   ],
   "source": [
    "df['umbrella_limit'].sort_values(ascending=True)"
   ]
  },
  {
   "cell_type": "code",
   "execution_count": 12,
   "metadata": {},
   "outputs": [
    {
     "data": {
      "text/plain": [
       "115    10000000\n",
       "430    10000000\n",
       "975     9000000\n",
       "458     9000000\n",
       "657     9000000\n",
       "         ...   \n",
       "625           0\n",
       "624           0\n",
       "623           0\n",
       "0             0\n",
       "290    -1000000\n",
       "Name: umbrella_limit, Length: 1000, dtype: int64"
      ]
     },
     "execution_count": 12,
     "metadata": {},
     "output_type": "execute_result"
    }
   ],
   "source": [
    "df['umbrella_limit'].sort_values(ascending=False)"
   ]
  },
  {
   "cell_type": "code",
   "execution_count": 17,
   "metadata": {},
   "outputs": [],
   "source": [
    "# limit can never be -ve , hence updating -ve umbrella limit to 0"
   ]
  },
  {
   "cell_type": "code",
   "execution_count": 11,
   "metadata": {},
   "outputs": [],
   "source": [
    "df['umbrella_limit']=df['umbrella_limit'].replace(-1000000,0)"
   ]
  },
  {
   "cell_type": "code",
   "execution_count": 21,
   "metadata": {},
   "outputs": [],
   "source": [
    "## Distribution of Target Variable"
   ]
  },
  {
   "cell_type": "code",
   "execution_count": 14,
   "metadata": {},
   "outputs": [
    {
     "data": {
      "image/png": "[encoded data removed]",
      "text/plain": [
       "<Figure size 360x360 with 1 Axes>"
      ]
     },
     "metadata": {
      "needs_background": "light"
     },
     "output_type": "display_data"
    }
   ],
   "source": [
    "\n",
    "ax = pd.value_counts(df['fraud_reported']).plot.bar(color=['orange', 'blue'], figsize=(5,5))\n",
    "ax.set_xlabel('Fraud_reported')\n",
    "ax.set_ylabel('Number_of_claims')\n",
    "plt.show()"
   ]
  },
  {
   "cell_type": "code",
   "execution_count": 23,
   "metadata": {},
   "outputs": [],
   "source": [
    "## As we can see Target variable is imbalanced , we will handle this before training"
   ]
  },
  {
   "cell_type": "code",
   "execution_count": 15,
   "metadata": {},
   "outputs": [
    {
     "data": {
      "text/plain": [
       "Rear Collision     292\n",
       "Side Collision     276\n",
       "Front Collision    254\n",
       "unknown            178\n",
       "Name: collision_type, dtype: int64"
      ]
     },
     "execution_count": 15,
     "metadata": {},
     "output_type": "execute_result"
    }
   ],
   "source": [
    "df['collision_type'].value_counts()"
   ]
  },
  {
   "cell_type": "code",
   "execution_count": 16,
   "metadata": {},
   "outputs": [],
   "source": [
    "#### We need label encoding for all features which are not numeric ,Let's start with data type object"
   ]
  },
  {
   "cell_type": "code",
   "execution_count": 17,
   "metadata": {},
   "outputs": [],
   "source": [
    "## check for columns of object data type"
   ]
  },
  {
   "cell_type": "code",
   "execution_count": 18,
   "metadata": {},
   "outputs": [],
   "source": [
    "def object_datatype_report(df):\n",
    "    feature_name =[]\n",
    "    distinct_count=[]\n",
    "    for col in df:\n",
    "        if df[col].dtype == 'object':\n",
    "            feature_name.append(str(col)) \n",
    "            distinct_count.append(df[col].nunique())\n",
    "\n",
    "    object_type_features = pd.DataFrame()\n",
    "    object_type_features['feature_name'] = feature_name\n",
    "    object_type_features['distinct_count']= distinct_count\n",
    "            \n",
    "    object_type_features=object_type_features.sort_values('distinct_count',ascending=False)\n",
    "    return object_type_features"
   ]
  },
  {
   "cell_type": "code",
   "execution_count": 19,
   "metadata": {},
   "outputs": [
    {
     "data": {
      "text/html": [
       "<div>\n",
       "<style scoped>\n",
       "    .dataframe tbody tr th:only-of-type {\n",
       "        vertical-align: middle;\n",
       "    }\n",
       "\n",
       "    .dataframe tbody tr th {\n",
       "        vertical-align: top;\n",
       "    }\n",
       "\n",
       "    .dataframe thead th {\n",
       "        text-align: right;\n",
       "    }\n",
       "</style>\n",
       "<table border=\"1\" class=\"dataframe\">\n",
       "  <thead>\n",
       "    <tr style=\"text-align: right;\">\n",
       "      <th></th>\n",
       "      <th>feature_name</th>\n",
       "      <th>distinct_count</th>\n",
       "    </tr>\n",
       "  </thead>\n",
       "  <tbody>\n",
       "    <tr>\n",
       "      <th>13</th>\n",
       "      <td>incident_location</td>\n",
       "      <td>1000</td>\n",
       "    </tr>\n",
       "    <tr>\n",
       "      <th>17</th>\n",
       "      <td>auto_model</td>\n",
       "      <td>39</td>\n",
       "    </tr>\n",
       "    <tr>\n",
       "      <th>5</th>\n",
       "      <td>insured_hobbies</td>\n",
       "      <td>20</td>\n",
       "    </tr>\n",
       "    <tr>\n",
       "      <th>4</th>\n",
       "      <td>insured_occupation</td>\n",
       "      <td>14</td>\n",
       "    </tr>\n",
       "    <tr>\n",
       "      <th>16</th>\n",
       "      <td>auto_make</td>\n",
       "      <td>14</td>\n",
       "    </tr>\n",
       "    <tr>\n",
       "      <th>3</th>\n",
       "      <td>insured_education_level</td>\n",
       "      <td>7</td>\n",
       "    </tr>\n",
       "    <tr>\n",
       "      <th>11</th>\n",
       "      <td>incident_state</td>\n",
       "      <td>7</td>\n",
       "    </tr>\n",
       "    <tr>\n",
       "      <th>12</th>\n",
       "      <td>incident_city</td>\n",
       "      <td>7</td>\n",
       "    </tr>\n",
       "    <tr>\n",
       "      <th>6</th>\n",
       "      <td>insured_relationship</td>\n",
       "      <td>6</td>\n",
       "    </tr>\n",
       "    <tr>\n",
       "      <th>10</th>\n",
       "      <td>authorities_contacted</td>\n",
       "      <td>5</td>\n",
       "    </tr>\n",
       "    <tr>\n",
       "      <th>9</th>\n",
       "      <td>incident_severity</td>\n",
       "      <td>4</td>\n",
       "    </tr>\n",
       "    <tr>\n",
       "      <th>7</th>\n",
       "      <td>incident_type</td>\n",
       "      <td>4</td>\n",
       "    </tr>\n",
       "    <tr>\n",
       "      <th>8</th>\n",
       "      <td>collision_type</td>\n",
       "      <td>4</td>\n",
       "    </tr>\n",
       "    <tr>\n",
       "      <th>15</th>\n",
       "      <td>police_report_available</td>\n",
       "      <td>3</td>\n",
       "    </tr>\n",
       "    <tr>\n",
       "      <th>0</th>\n",
       "      <td>policy_state</td>\n",
       "      <td>3</td>\n",
       "    </tr>\n",
       "    <tr>\n",
       "      <th>14</th>\n",
       "      <td>property_damage</td>\n",
       "      <td>3</td>\n",
       "    </tr>\n",
       "    <tr>\n",
       "      <th>1</th>\n",
       "      <td>policy_csl</td>\n",
       "      <td>3</td>\n",
       "    </tr>\n",
       "    <tr>\n",
       "      <th>2</th>\n",
       "      <td>insured_sex</td>\n",
       "      <td>2</td>\n",
       "    </tr>\n",
       "    <tr>\n",
       "      <th>18</th>\n",
       "      <td>fraud_reported</td>\n",
       "      <td>2</td>\n",
       "    </tr>\n",
       "  </tbody>\n",
       "</table>\n",
       "</div>"
      ],
      "text/plain": [
       "               feature_name  distinct_count\n",
       "13        incident_location            1000\n",
       "17               auto_model              39\n",
       "5           insured_hobbies              20\n",
       "4        insured_occupation              14\n",
       "16                auto_make              14\n",
       "3   insured_education_level               7\n",
       "11           incident_state               7\n",
       "12            incident_city               7\n",
       "6      insured_relationship               6\n",
       "10    authorities_contacted               5\n",
       "9         incident_severity               4\n",
       "7             incident_type               4\n",
       "8            collision_type               4\n",
       "15  police_report_available               3\n",
       "0              policy_state               3\n",
       "14          property_damage               3\n",
       "1                policy_csl               3\n",
       "2               insured_sex               2\n",
       "18           fraud_reported               2"
      ]
     },
     "execution_count": 19,
     "metadata": {},
     "output_type": "execute_result"
    }
   ],
   "source": [
    "object_datatype_report(df)"
   ]
  },
  {
   "cell_type": "code",
   "execution_count": 20,
   "metadata": {},
   "outputs": [],
   "source": [
    "# Based on above result we can see drop columns having maximum unique values\n",
    "# As this will not help in generalizing model"
   ]
  },
  {
   "cell_type": "code",
   "execution_count": 12,
   "metadata": {},
   "outputs": [],
   "source": [
    "df=df.drop(['incident_location','policy_number','policy_bind_date','insured_zip','incident_date','authorities_contacted','auto_make','auto_model'],axis=1)"
   ]
  },
  {
   "cell_type": "code",
   "execution_count": 22,
   "metadata": {},
   "outputs": [
    {
     "data": {
      "text/plain": [
       "Index(['months_as_customer', 'age', 'policy_state', 'policy_csl',\n",
       "       'policy_deductable', 'policy_annual_premium', 'umbrella_limit',\n",
       "       'insured_sex', 'insured_education_level', 'insured_occupation',\n",
       "       'insured_hobbies', 'insured_relationship', 'capital-gains',\n",
       "       'capital-loss', 'incident_type', 'collision_type', 'incident_severity',\n",
       "       'incident_state', 'incident_city', 'incident_hour_of_the_day',\n",
       "       'number_of_vehicles_involved', 'property_damage', 'bodily_injuries',\n",
       "       'witnesses', 'police_report_available', 'total_claim_amount',\n",
       "       'injury_claim', 'property_claim', 'vehicle_claim', 'auto_year',\n",
       "       'fraud_reported'],\n",
       "      dtype='object')"
      ]
     },
     "execution_count": 22,
     "metadata": {},
     "output_type": "execute_result"
    }
   ],
   "source": [
    "df.columns"
   ]
  },
  {
   "cell_type": "code",
   "execution_count": 23,
   "metadata": {},
   "outputs": [
    {
     "data": {
      "text/html": [
       "<div>\n",
       "<style scoped>\n",
       "    .dataframe tbody tr th:only-of-type {\n",
       "        vertical-align: middle;\n",
       "    }\n",
       "\n",
       "    .dataframe tbody tr th {\n",
       "        vertical-align: top;\n",
       "    }\n",
       "\n",
       "    .dataframe thead th {\n",
       "        text-align: right;\n",
       "    }\n",
       "</style>\n",
       "<table border=\"1\" class=\"dataframe\">\n",
       "  <thead>\n",
       "    <tr style=\"text-align: right;\">\n",
       "      <th></th>\n",
       "      <th>months_as_customer</th>\n",
       "      <th>age</th>\n",
       "      <th>policy_state</th>\n",
       "      <th>policy_csl</th>\n",
       "      <th>policy_deductable</th>\n",
       "      <th>policy_annual_premium</th>\n",
       "      <th>umbrella_limit</th>\n",
       "      <th>insured_sex</th>\n",
       "      <th>insured_education_level</th>\n",
       "      <th>insured_occupation</th>\n",
       "      <th>...</th>\n",
       "      <th>property_damage</th>\n",
       "      <th>bodily_injuries</th>\n",
       "      <th>witnesses</th>\n",
       "      <th>police_report_available</th>\n",
       "      <th>total_claim_amount</th>\n",
       "      <th>injury_claim</th>\n",
       "      <th>property_claim</th>\n",
       "      <th>vehicle_claim</th>\n",
       "      <th>auto_year</th>\n",
       "      <th>fraud_reported</th>\n",
       "    </tr>\n",
       "  </thead>\n",
       "  <tbody>\n",
       "    <tr>\n",
       "      <th>0</th>\n",
       "      <td>328</td>\n",
       "      <td>48</td>\n",
       "      <td>OH</td>\n",
       "      <td>250/500</td>\n",
       "      <td>1000</td>\n",
       "      <td>1406.91</td>\n",
       "      <td>0</td>\n",
       "      <td>MALE</td>\n",
       "      <td>MD</td>\n",
       "      <td>craft-repair</td>\n",
       "      <td>...</td>\n",
       "      <td>YES</td>\n",
       "      <td>1</td>\n",
       "      <td>2</td>\n",
       "      <td>YES</td>\n",
       "      <td>71610</td>\n",
       "      <td>6510</td>\n",
       "      <td>13020</td>\n",
       "      <td>52080</td>\n",
       "      <td>2004</td>\n",
       "      <td>Y</td>\n",
       "    </tr>\n",
       "    <tr>\n",
       "      <th>1</th>\n",
       "      <td>228</td>\n",
       "      <td>42</td>\n",
       "      <td>IN</td>\n",
       "      <td>250/500</td>\n",
       "      <td>2000</td>\n",
       "      <td>1197.22</td>\n",
       "      <td>5000000</td>\n",
       "      <td>MALE</td>\n",
       "      <td>MD</td>\n",
       "      <td>machine-op-inspct</td>\n",
       "      <td>...</td>\n",
       "      <td>unknown</td>\n",
       "      <td>0</td>\n",
       "      <td>0</td>\n",
       "      <td>unknown</td>\n",
       "      <td>5070</td>\n",
       "      <td>780</td>\n",
       "      <td>780</td>\n",
       "      <td>3510</td>\n",
       "      <td>2007</td>\n",
       "      <td>Y</td>\n",
       "    </tr>\n",
       "    <tr>\n",
       "      <th>2</th>\n",
       "      <td>134</td>\n",
       "      <td>29</td>\n",
       "      <td>OH</td>\n",
       "      <td>100/300</td>\n",
       "      <td>2000</td>\n",
       "      <td>1413.14</td>\n",
       "      <td>5000000</td>\n",
       "      <td>FEMALE</td>\n",
       "      <td>PhD</td>\n",
       "      <td>sales</td>\n",
       "      <td>...</td>\n",
       "      <td>NO</td>\n",
       "      <td>2</td>\n",
       "      <td>3</td>\n",
       "      <td>NO</td>\n",
       "      <td>34650</td>\n",
       "      <td>7700</td>\n",
       "      <td>3850</td>\n",
       "      <td>23100</td>\n",
       "      <td>2007</td>\n",
       "      <td>N</td>\n",
       "    </tr>\n",
       "    <tr>\n",
       "      <th>3</th>\n",
       "      <td>256</td>\n",
       "      <td>41</td>\n",
       "      <td>IL</td>\n",
       "      <td>250/500</td>\n",
       "      <td>2000</td>\n",
       "      <td>1415.74</td>\n",
       "      <td>6000000</td>\n",
       "      <td>FEMALE</td>\n",
       "      <td>PhD</td>\n",
       "      <td>armed-forces</td>\n",
       "      <td>...</td>\n",
       "      <td>unknown</td>\n",
       "      <td>1</td>\n",
       "      <td>2</td>\n",
       "      <td>NO</td>\n",
       "      <td>63400</td>\n",
       "      <td>6340</td>\n",
       "      <td>6340</td>\n",
       "      <td>50720</td>\n",
       "      <td>2014</td>\n",
       "      <td>Y</td>\n",
       "    </tr>\n",
       "    <tr>\n",
       "      <th>4</th>\n",
       "      <td>228</td>\n",
       "      <td>44</td>\n",
       "      <td>IL</td>\n",
       "      <td>500/1000</td>\n",
       "      <td>1000</td>\n",
       "      <td>1583.91</td>\n",
       "      <td>6000000</td>\n",
       "      <td>MALE</td>\n",
       "      <td>Associate</td>\n",
       "      <td>sales</td>\n",
       "      <td>...</td>\n",
       "      <td>NO</td>\n",
       "      <td>0</td>\n",
       "      <td>1</td>\n",
       "      <td>NO</td>\n",
       "      <td>6500</td>\n",
       "      <td>1300</td>\n",
       "      <td>650</td>\n",
       "      <td>4550</td>\n",
       "      <td>2009</td>\n",
       "      <td>N</td>\n",
       "    </tr>\n",
       "  </tbody>\n",
       "</table>\n",
       "<p>5 rows × 31 columns</p>\n",
       "</div>"
      ],
      "text/plain": [
       "   months_as_customer  age policy_state policy_csl  policy_deductable  \\\n",
       "0                 328   48           OH    250/500               1000   \n",
       "1                 228   42           IN    250/500               2000   \n",
       "2                 134   29           OH    100/300               2000   \n",
       "3                 256   41           IL    250/500               2000   \n",
       "4                 228   44           IL   500/1000               1000   \n",
       "\n",
       "   policy_annual_premium  umbrella_limit insured_sex insured_education_level  \\\n",
       "0                1406.91               0        MALE                      MD   \n",
       "1                1197.22         5000000        MALE                      MD   \n",
       "2                1413.14         5000000      FEMALE                     PhD   \n",
       "3                1415.74         6000000      FEMALE                     PhD   \n",
       "4                1583.91         6000000        MALE               Associate   \n",
       "\n",
       "  insured_occupation  ... property_damage bodily_injuries  witnesses  \\\n",
       "0       craft-repair  ...             YES               1          2   \n",
       "1  machine-op-inspct  ...         unknown               0          0   \n",
       "2              sales  ...              NO               2          3   \n",
       "3       armed-forces  ...         unknown               1          2   \n",
       "4              sales  ...              NO               0          1   \n",
       "\n",
       "   police_report_available total_claim_amount injury_claim property_claim  \\\n",
       "0                      YES              71610         6510          13020   \n",
       "1                  unknown               5070          780            780   \n",
       "2                       NO              34650         7700           3850   \n",
       "3                       NO              63400         6340           6340   \n",
       "4                       NO               6500         1300            650   \n",
       "\n",
       "  vehicle_claim auto_year  fraud_reported  \n",
       "0         52080      2004               Y  \n",
       "1          3510      2007               Y  \n",
       "2         23100      2007               N  \n",
       "3         50720      2014               Y  \n",
       "4          4550      2009               N  \n",
       "\n",
       "[5 rows x 31 columns]"
      ]
     },
     "execution_count": 23,
     "metadata": {},
     "output_type": "execute_result"
    }
   ],
   "source": [
    "df.head()"
   ]
  },
  {
   "cell_type": "code",
   "execution_count": 24,
   "metadata": {},
   "outputs": [],
   "source": [
    "## Now we can apply label encoding for remaining columns"
   ]
  },
  {
   "cell_type": "code",
   "execution_count": 13,
   "metadata": {},
   "outputs": [],
   "source": [
    "df=pd.get_dummies(df,columns=['policy_state','policy_csl','insured_sex','insured_education_level','insured_occupation',\n",
    "                                'insured_hobbies','insured_relationship','incident_type','collision_type','incident_severity','incident_state',\n",
    "                                'incident_city','property_damage','police_report_available'],drop_first=True)"
   ]
  },
  {
   "cell_type": "code",
   "execution_count": 26,
   "metadata": {},
   "outputs": [
    {
     "data": {
      "text/plain": [
       "(1000, 90)"
      ]
     },
     "execution_count": 26,
     "metadata": {},
     "output_type": "execute_result"
    }
   ],
   "source": [
    "df.shape"
   ]
  },
  {
   "cell_type": "code",
   "execution_count": 27,
   "metadata": {},
   "outputs": [],
   "source": [
    "## We can encode target_variable as well"
   ]
  },
  {
   "cell_type": "code",
   "execution_count": 14,
   "metadata": {},
   "outputs": [],
   "source": [
    "df[\"fraud_reported\"]= df[\"fraud_reported\"].map({\"N\":0, \"Y\":1})"
   ]
  },
  {
   "cell_type": "code",
   "execution_count": 15,
   "metadata": {},
   "outputs": [],
   "source": [
    "X=df.drop(['fraud_reported'],axis='columns')\n"
   ]
  },
  {
   "cell_type": "code",
   "execution_count": 16,
   "metadata": {},
   "outputs": [],
   "source": [
    "y=df['fraud_reported']"
   ]
  },
  {
   "cell_type": "code",
   "execution_count": 17,
   "metadata": {},
   "outputs": [],
   "source": [
    "scaling_obj=StandardScaler()\n",
    "X_scal = scaling_obj.fit_transform(X)"
   ]
  },
  {
   "cell_type": "markdown",
   "metadata": {},
   "source": [
    "### Model Training"
   ]
  },
  {
   "cell_type": "code",
   "execution_count": 18,
   "metadata": {},
   "outputs": [],
   "source": [
    "def label_prediction(model, X_test):\n",
    "    predicted_values = model.predict(X_test)\n",
    "    return predicted_values"
   ]
  },
  {
   "cell_type": "code",
   "execution_count": 19,
   "metadata": {},
   "outputs": [],
   "source": [
    "def calculate_metrics(model, X_train, X_test, Y_test, y_train):\n",
    "    predicted_y_test = label_prediction(model, X_test)\n",
    "    training_accuracy = accuracy_score(y_train, label_prediction(model,X_train))\n",
    "    testing_accuracy = accuracy_score(Y_test, predicted_y_test)\n",
    "    conf_matrix = confusion_matrix(Y_test, predicted_y_test)\n",
    "    cls_report = classification_report(Y_test, predicted_y_test)\n",
    "    return training_accuracy, testing_accuracy, conf_matrix,cls_report\n",
    "     \n",
    "    "
   ]
  },
  {
   "cell_type": "code",
   "execution_count": 20,
   "metadata": {},
   "outputs": [],
   "source": [
    "def model_statictics(model_conf_matrix):\n",
    "    a = model_conf_matrix[0][0]\n",
    "    b = model_conf_matrix[1][0]\n",
    "    c = model_conf_matrix[0][1]\n",
    "    d = model_conf_matrix[1][1]\n",
    "    p1 = a + b\n",
    "    p2 = a + c\n",
    "    q1 = c + d\n",
    "    q2 = b + d\n",
    "    k = [2* (a*d - b*c) / (p1*q2 +p2*q1)]\n",
    "    sensitivity = a / (a+ c)\n",
    "    specificity = 1- (b / (b+d))\n",
    "    return k, specificity, sensitivity\n",
    "    \n",
    "        \n",
    "    "
   ]
  },
  {
   "cell_type": "code",
   "execution_count": 21,
   "metadata": {},
   "outputs": [],
   "source": [
    "def print_metrics(model_metrics, model_name,model_statictics):\n",
    "    print(f\"Training Accuracy of {model_name} is {round(model_metrics[0]* 100,3)}%\")\n",
    "    print(f\"Testing Accuracy of {model_name} is {round(model_metrics[1] * 100,3)}%\")\n",
    "    print(f\"Confusion matrix of {model_name} is\\n {model_metrics[2]}\")\n",
    "    print(f\"Classification report for {model_name} is \\n {model_metrics[3]}\")\n",
    "    print(f\"Cohen Kappa Score for {model_name} is {model_statictics[0]}\")\n",
    "    print(f\"Sensitivity for {model_name} is {model_statictics[2]}\")\n",
    "    print(f\"Specificity for {model_name} is {model_statictics[1]}\")"
   ]
  },
  {
   "cell_type": "markdown",
   "metadata": {},
   "source": [
    "## Basic Models without any tunning"
   ]
  },
  {
   "cell_type": "code",
   "execution_count": 26,
   "metadata": {},
   "outputs": [],
   "source": [
    "X_train,X_test,y_train,y_test=train_test_split(X_scal, y, test_size=0.2)"
   ]
  },
  {
   "cell_type": "markdown",
   "metadata": {},
   "source": [
    "#### SVM"
   ]
  },
  {
   "cell_type": "code",
   "execution_count": 27,
   "metadata": {},
   "outputs": [
    {
     "name": "stdout",
     "output_type": "stream",
     "text": [
      "Training Accuracy of SVM is 89.75%\n",
      "Testing Accuracy of SVM is 80.5%\n",
      "Confusion matrix of SVM is\n",
      " [[132  17]\n",
      " [ 22  29]]\n",
      "Classification report for SVM is \n",
      "               precision    recall  f1-score   support\n",
      "\n",
      "           0       0.86      0.89      0.87       149\n",
      "           1       0.63      0.57      0.60        51\n",
      "\n",
      "    accuracy                           0.81       200\n",
      "   macro avg       0.74      0.73      0.73       200\n",
      "weighted avg       0.80      0.81      0.80       200\n",
      "\n",
      "Cohen Kappa Score for SVM is [0.46967636660320916]\n",
      "Sensitivity for SVM is 0.8859060402684564\n",
      "Specificity for SVM is 0.5686274509803921\n"
     ]
    }
   ],
   "source": [
    "svc = SVC(C=1.0,kernel='linear')\n",
    "svm_model = svc.fit(X_train, y_train)\n",
    "label_prediction(svm_model, X_test )\n",
    "svm_metrics = calculate_metrics(svm_model, X_train, X_test, y_test, y_train)\n",
    "svm_statistics = model_statictics(svm_metrics[2])\n",
    "print_metrics(svm_metrics, 'SVM',svm_statistics )"
   ]
  },
  {
   "cell_type": "markdown",
   "metadata": {},
   "source": [
    "#### KNN"
   ]
  },
  {
   "cell_type": "code",
   "execution_count": 28,
   "metadata": {},
   "outputs": [
    {
     "name": "stdout",
     "output_type": "stream",
     "text": [
      "Training Accuracy of KNN is 77.875%\n",
      "Testing Accuracy of KNN is 76.0%\n",
      "Confusion matrix of KNN is\n",
      " [[145   4]\n",
      " [ 44   7]]\n",
      "Classification report for KNN is \n",
      "               precision    recall  f1-score   support\n",
      "\n",
      "           0       0.77      0.97      0.86       149\n",
      "           1       0.64      0.14      0.23        51\n",
      "\n",
      "    accuracy                           0.76       200\n",
      "   macro avg       0.70      0.56      0.54       200\n",
      "weighted avg       0.73      0.76      0.70       200\n",
      "\n",
      "Cohen Kappa Score for KNN is [0.14878524561092393]\n",
      "Sensitivity for KNN is 0.9731543624161074\n",
      "Specificity for KNN is 0.13725490196078427\n"
     ]
    }
   ],
   "source": [
    "knn = KNeighborsClassifier(n_neighbors = 29)\n",
    "knn_model = knn.fit(X_train, y_train)\n",
    "label_prediction(knn_model, X_test )\n",
    "knn_metrics = calculate_metrics(knn_model, X_train, X_test, y_test, y_train)\n",
    "knn_statistics = model_statictics(knn_metrics[2])\n",
    "print_metrics(knn_metrics, 'KNN',knn_statistics )\n"
   ]
  },
  {
   "cell_type": "markdown",
   "metadata": {},
   "source": [
    "### Decision Tree"
   ]
  },
  {
   "cell_type": "code",
   "execution_count": 29,
   "metadata": {},
   "outputs": [
    {
     "name": "stdout",
     "output_type": "stream",
     "text": [
      "Training Accuracy of dt_model is 100.0%\n",
      "Testing Accuracy of dt_model is 77.0%\n",
      "Confusion matrix of dt_model is\n",
      " [[126  23]\n",
      " [ 23  28]]\n",
      "Classification report for dt_model is \n",
      "               precision    recall  f1-score   support\n",
      "\n",
      "           0       0.85      0.85      0.85       149\n",
      "           1       0.55      0.55      0.55        51\n",
      "\n",
      "    accuracy                           0.77       200\n",
      "   macro avg       0.70      0.70      0.70       200\n",
      "weighted avg       0.77      0.77      0.77       200\n",
      "\n",
      "Cohen Kappa Score for dt_model is [0.3946571917357547]\n",
      "Sensitivity for dt_model is 0.8456375838926175\n",
      "Specificity for dt_model is 0.5490196078431373\n"
     ]
    }
   ],
   "source": [
    "dt_model = DecisionTreeClassifier()\n",
    "dt_model=dt_model.fit(X_train, y_train)\n",
    "label_prediction(dt_model, X_test )\n",
    "dt_metrics = calculate_metrics(dt_model, X_train, X_test, y_test, y_train)\n",
    "dt_statistics = model_statictics(dt_metrics[2])\n",
    "print_metrics(dt_metrics, 'dt_model',dt_statistics )"
   ]
  },
  {
   "cell_type": "code",
   "execution_count": 30,
   "metadata": {},
   "outputs": [
    {
     "name": "stdout",
     "output_type": "stream",
     "text": [
      "Training Accuracy of Random Forest Tree is 99.5%\n",
      "Testing Accuracy of Random Forest Tree is 75.0%\n",
      "Confusion matrix of Random Forest Tree is\n",
      " [[141   8]\n",
      " [ 42   9]]\n",
      "Classification report for Random Forest Tree is \n",
      "               precision    recall  f1-score   support\n",
      "\n",
      "           0       0.77      0.95      0.85       149\n",
      "           1       0.53      0.18      0.26        51\n",
      "\n",
      "    accuracy                           0.75       200\n",
      "   macro avg       0.65      0.56      0.56       200\n",
      "weighted avg       0.71      0.75      0.70       200\n",
      "\n",
      "Cohen Kappa Score for Random Forest Tree is [0.15725602561941682]\n",
      "Sensitivity for Random Forest Tree is 0.9463087248322147\n",
      "Specificity for Random Forest Tree is 0.17647058823529416\n"
     ]
    }
   ],
   "source": [
    "rand_clf = RandomForestClassifier(criterion= 'entropy', max_depth= 12, max_features= 'sqrt', min_samples_leaf= 1, min_samples_split= 2, n_estimators= 100)\n",
    "rand_clf=rand_clf.fit(X_train, y_train)\n",
    "#y_pred = rand_clf.predict(X_test)\n",
    "label_prediction(rand_clf, X_test )\n",
    "randforest_metrics = calculate_metrics(rand_clf, X_train, X_test, y_test, y_train)\n",
    "rand_statistics = model_statictics(randforest_metrics[2])\n",
    "print_metrics(randforest_metrics, 'Random Forest Tree',rand_statistics )"
   ]
  },
  {
   "cell_type": "code",
   "execution_count": 41,
   "metadata": {},
   "outputs": [],
   "source": [
    "# As dataset is imbalanced we can see Specificity obtained is very low , also Precision and Recall for minority class is less\n",
    "# Cohen Kappa Score obtained is also below 50%"
   ]
  },
  {
   "cell_type": "markdown",
   "metadata": {},
   "source": [
    "## Handing Imbalanced dataset using SMOTE"
   ]
  },
  {
   "cell_type": "code",
   "execution_count": 31,
   "metadata": {},
   "outputs": [],
   "source": [
    "## We will be using SMOTE (Synthetic Minority Over Sampling Technique)"
   ]
  },
  {
   "cell_type": "code",
   "execution_count": 32,
   "metadata": {},
   "outputs": [
    {
     "name": "stdout",
     "output_type": "stream",
     "text": [
      "(1506, 89)\n",
      "(1506,)\n"
     ]
    }
   ],
   "source": [
    "X_balanced , Y_balanced = SMOTE().fit_resample(X, y)\n",
    "\n",
    "print(X_balanced.shape)\n",
    "print(Y_balanced.shape)"
   ]
  },
  {
   "cell_type": "code",
   "execution_count": 33,
   "metadata": {},
   "outputs": [
    {
     "data": {
      "text/plain": [
       "1    753\n",
       "0    753\n",
       "Name: fraud_reported, dtype: int64"
      ]
     },
     "execution_count": 33,
     "metadata": {},
     "output_type": "execute_result"
    }
   ],
   "source": [
    "Y_balanced.value_counts()"
   ]
  },
  {
   "cell_type": "code",
   "execution_count": 34,
   "metadata": {},
   "outputs": [],
   "source": [
    "## scaling down all input values to follow standard normal distribution using standardscaler method\n",
    "scaling_obj=StandardScaler()\n",
    "X_scaled = scaling_obj.fit_transform(X_balanced)"
   ]
  },
  {
   "cell_type": "code",
   "execution_count": 35,
   "metadata": {},
   "outputs": [],
   "source": [
    "\n",
    "X_train,X_test,y_train,y_test=train_test_split(X_scaled,Y_balanced,test_size=0.2)"
   ]
  },
  {
   "cell_type": "markdown",
   "metadata": {},
   "source": [
    "### SVM Model After SMOTE"
   ]
  },
  {
   "cell_type": "code",
   "execution_count": 36,
   "metadata": {},
   "outputs": [
    {
     "name": "stdout",
     "output_type": "stream",
     "text": [
      "Training Accuracy of SVM is 92.691%\n",
      "Testing Accuracy of SVM is 90.066%\n",
      "Confusion matrix of SVM is\n",
      " [[134  16]\n",
      " [ 14 138]]\n",
      "Classification report for SVM is \n",
      "               precision    recall  f1-score   support\n",
      "\n",
      "           0       0.91      0.89      0.90       150\n",
      "           1       0.90      0.91      0.90       152\n",
      "\n",
      "    accuracy                           0.90       302\n",
      "   macro avg       0.90      0.90      0.90       302\n",
      "weighted avg       0.90      0.90      0.90       302\n",
      "\n",
      "Cohen Kappa Score for SVM is [0.8012983595052198]\n",
      "Sensitivity for SVM is 0.8933333333333333\n",
      "Specificity for SVM is 0.9078947368421053\n"
     ]
    }
   ],
   "source": [
    "svc = SVC(kernel='linear')\n",
    "svm_model = svc.fit(X_train, y_train)\n",
    "label_prediction(svm_model, X_test )\n",
    "svm_metrics = calculate_metrics(svm_model, X_train, X_test, y_test, y_train)\n",
    "svm_statistics = model_statictics(svm_metrics[2])\n",
    "print_metrics(svm_metrics, 'SVM',svm_statistics )"
   ]
  },
  {
   "cell_type": "markdown",
   "metadata": {},
   "source": [
    "### KNN Model After SMOTE"
   ]
  },
  {
   "cell_type": "code",
   "execution_count": 37,
   "metadata": {},
   "outputs": [
    {
     "name": "stdout",
     "output_type": "stream",
     "text": [
      "Training Accuracy of KNN is 50.166%\n",
      "Testing Accuracy of KNN is 50.331%\n",
      "Confusion matrix of KNN is\n",
      " [[  0 150]\n",
      " [  0 152]]\n",
      "Classification report for KNN is \n",
      "               precision    recall  f1-score   support\n",
      "\n",
      "           0       0.00      0.00      0.00       150\n",
      "           1       0.50      1.00      0.67       152\n",
      "\n",
      "    accuracy                           0.50       302\n",
      "   macro avg       0.25      0.50      0.33       302\n",
      "weighted avg       0.25      0.50      0.34       302\n",
      "\n",
      "Cohen Kappa Score for KNN is [0.0]\n",
      "Sensitivity for KNN is 0.0\n",
      "Specificity for KNN is 1.0\n"
     ]
    },
    {
     "name": "stderr",
     "output_type": "stream",
     "text": [
      "c:\\users\\sbalani\\appdata\\local\\programs\\python\\python37\\lib\\site-packages\\sklearn\\metrics\\_classification.py:1248: UndefinedMetricWarning: Precision and F-score are ill-defined and being set to 0.0 in labels with no predicted samples. Use `zero_division` parameter to control this behavior.\n",
      "  _warn_prf(average, modifier, msg_start, len(result))\n",
      "c:\\users\\sbalani\\appdata\\local\\programs\\python\\python37\\lib\\site-packages\\sklearn\\metrics\\_classification.py:1248: UndefinedMetricWarning: Precision and F-score are ill-defined and being set to 0.0 in labels with no predicted samples. Use `zero_division` parameter to control this behavior.\n",
      "  _warn_prf(average, modifier, msg_start, len(result))\n",
      "c:\\users\\sbalani\\appdata\\local\\programs\\python\\python37\\lib\\site-packages\\sklearn\\metrics\\_classification.py:1248: UndefinedMetricWarning: Precision and F-score are ill-defined and being set to 0.0 in labels with no predicted samples. Use `zero_division` parameter to control this behavior.\n",
      "  _warn_prf(average, modifier, msg_start, len(result))\n"
     ]
    }
   ],
   "source": [
    "knn = KNeighborsClassifier(n_neighbors = 29)\n",
    "knn_model = knn.fit(X_train, y_train)\n",
    "label_prediction(knn_model, X_test )\n",
    "knn_metrics = calculate_metrics(knn_model, X_train, X_test, y_test, y_train)\n",
    "knn_statistics = model_statictics(knn_metrics[2])\n",
    "print_metrics(knn_metrics, 'KNN',knn_statistics )"
   ]
  },
  {
   "cell_type": "markdown",
   "metadata": {},
   "source": [
    "### Decision Tree After SMOTE"
   ]
  },
  {
   "cell_type": "code",
   "execution_count": 38,
   "metadata": {},
   "outputs": [
    {
     "name": "stdout",
     "output_type": "stream",
     "text": [
      "Training Accuracy of dt_model is 100.0%\n",
      "Testing Accuracy of dt_model is 83.775%\n",
      "Confusion matrix of dt_model is\n",
      " [[124  26]\n",
      " [ 23 129]]\n",
      "Classification report for dt_model is \n",
      "               precision    recall  f1-score   support\n",
      "\n",
      "           0       0.84      0.83      0.84       150\n",
      "           1       0.83      0.85      0.84       152\n",
      "\n",
      "    accuracy                           0.84       302\n",
      "   macro avg       0.84      0.84      0.84       302\n",
      "weighted avg       0.84      0.84      0.84       302\n",
      "\n",
      "Cohen Kappa Score for dt_model is [0.6754397508444093]\n",
      "Sensitivity for dt_model is 0.8266666666666667\n",
      "Specificity for dt_model is 0.8486842105263158\n"
     ]
    }
   ],
   "source": [
    "dt_model = DecisionTreeClassifier()\n",
    "dt_model=dt_model.fit(X_train, y_train)\n",
    "label_prediction(dt_model, X_test )\n",
    "dt_metrics = calculate_metrics(dt_model, X_train, X_test, y_test, y_train)\n",
    "dt_statistics = model_statictics(dt_metrics[2])\n",
    "print_metrics(dt_metrics, 'dt_model',dt_statistics )\n"
   ]
  },
  {
   "cell_type": "markdown",
   "metadata": {},
   "source": [
    "### Random Forest Classifier"
   ]
  },
  {
   "cell_type": "code",
   "execution_count": 39,
   "metadata": {},
   "outputs": [
    {
     "name": "stdout",
     "output_type": "stream",
     "text": [
      "Training Accuracy of Random Forest Tree is 99.917%\n",
      "Testing Accuracy of Random Forest Tree is 88.742%\n",
      "Confusion matrix of Random Forest Tree is\n",
      " [[130  20]\n",
      " [ 14 138]]\n",
      "Classification report for Random Forest Tree is \n",
      "               precision    recall  f1-score   support\n",
      "\n",
      "           0       0.90      0.87      0.88       150\n",
      "           1       0.87      0.91      0.89       152\n",
      "\n",
      "    accuracy                           0.89       302\n",
      "   macro avg       0.89      0.89      0.89       302\n",
      "weighted avg       0.89      0.89      0.89       302\n",
      "\n",
      "Cohen Kappa Score for Random Forest Tree is [0.7747652891111696]\n",
      "Sensitivity for Random Forest Tree is 0.8666666666666667\n",
      "Specificity for Random Forest Tree is 0.9078947368421053\n"
     ]
    }
   ],
   "source": [
    "rand_clf = RandomForestClassifier(criterion= 'entropy', max_depth= 12, max_features= 'sqrt', min_samples_leaf= 1, min_samples_split= 2, n_estimators= 100)\n",
    "rand_clf=rand_clf.fit(X_train, y_train)\n",
    "#y_pred = rand_clf.predict(X_test)\n",
    "label_prediction(rand_clf, X_test )\n",
    "randforest_metrics = calculate_metrics(rand_clf, X_train, X_test, y_test, y_train)\n",
    "rand_statistics = model_statictics(randforest_metrics[2])\n",
    "print_metrics(randforest_metrics, 'Random Forest Tree',rand_statistics )"
   ]
  },
  {
   "cell_type": "code",
   "execution_count": null,
   "metadata": {},
   "outputs": [],
   "source": [
    "## After SMOTE Kohen Kapaa score is improved"
   ]
  },
  {
   "cell_type": "markdown",
   "metadata": {},
   "source": [
    "## Principle Component Analysis"
   ]
  },
  {
   "cell_type": "code",
   "execution_count": 47,
   "metadata": {},
   "outputs": [],
   "source": [
    "### As we have many features , we can reduce by using principle component analysis"
   ]
  },
  {
   "cell_type": "code",
   "execution_count": 100,
   "metadata": {},
   "outputs": [],
   "source": [
    "pca=PCA(n_components=0.95)\n",
    "X_reduced = pca.fit_transform(X_scaled)"
   ]
  },
  {
   "cell_type": "code",
   "execution_count": 101,
   "metadata": {},
   "outputs": [
    {
     "data": {
      "text/plain": [
       "(1506, 72)"
      ]
     },
     "execution_count": 101,
     "metadata": {},
     "output_type": "execute_result"
    }
   ],
   "source": [
    "X_reduced.shape"
   ]
  },
  {
   "cell_type": "code",
   "execution_count": 102,
   "metadata": {},
   "outputs": [],
   "source": [
    "var_ratio = pca.explained_variance_ratio_"
   ]
  },
  {
   "cell_type": "code",
   "execution_count": 103,
   "metadata": {},
   "outputs": [
    {
     "data": {
      "text/plain": [
       "0.9536290454121099"
      ]
     },
     "execution_count": 103,
     "metadata": {},
     "output_type": "execute_result"
    }
   ],
   "source": [
    "np.sum(var_ratio)"
   ]
  },
  {
   "cell_type": "code",
   "execution_count": 104,
   "metadata": {},
   "outputs": [
    {
     "data": {
      "text/plain": [
       "72"
      ]
     },
     "execution_count": 104,
     "metadata": {},
     "output_type": "execute_result"
    }
   ],
   "source": [
    "len(var_ratio)"
   ]
  },
  {
   "cell_type": "markdown",
   "metadata": {},
   "source": [
    "90 features are converted into 72 principal components which constitutes 95.02% variance.\n",
    "\n",
    "The explained variance tells how much information (variance) can be attributed to each of the principal components"
   ]
  },
  {
   "cell_type": "markdown",
   "metadata": {},
   "source": [
    "## Hypertunning Using RandomSearch CV"
   ]
  },
  {
   "cell_type": "code",
   "execution_count": 40,
   "metadata": {},
   "outputs": [],
   "source": [
    "X_train,X_test,y_train,y_test=train_test_split(X_scaled,Y_balanced,test_size=0.2)"
   ]
  },
  {
   "cell_type": "markdown",
   "metadata": {},
   "source": [
    "### SVM Parameters Hypertunning"
   ]
  },
  {
   "cell_type": "markdown",
   "metadata": {},
   "source": [
    "**Default SVC parameters**\n",
    "SVC(\n",
    "    *,\n",
    "    C=1.0,\n",
    "    kernel='rbf',\n",
    "    degree=3,\n",
    "    gamma='scale',\n",
    "    coef0=0.0,\n",
    "    shrinking=True,\n",
    "    probability=False,\n",
    "    tol=0.001,\n",
    "    cache_size=200,\n",
    "    class_weight=None,\n",
    "    verbose=False,\n",
    "    max_iter=-1,\n",
    "    decision_function_shape='ovr',\n",
    "    break_ties=False,\n",
    "    random_state=None,\n",
    ")\n"
   ]
  },
  {
   "cell_type": "code",
   "execution_count": 41,
   "metadata": {},
   "outputs": [
    {
     "name": "stdout",
     "output_type": "stream",
     "text": [
      "{'kernel': 'linear', 'C': 1}\n"
     ]
    }
   ],
   "source": [
    "svc_tune = SVC()\n",
    "\n",
    "svm_parameters = [{'C': [1,10,50,100,200,300],'kernel': ['linear']},\n",
    "                  {'C': [1,10,50,100,200,300],'kernel': ['rbf'], 'gamma':[0.1, 0.2, 0.3, 0.4, 0.5, 0.6, 0.7, 0.8, 0.9]}]\n",
    "\n",
    "    \n",
    "rs_svm = RandomizedSearchCV(svc_tune, svm_parameters, cv=10, n_jobs = -1, random_state=42)\n",
    "rs_svm.fit(X_train, y_train)\n",
    "print(rs_svm.best_params_)"
   ]
  },
  {
   "cell_type": "code",
   "execution_count": 42,
   "metadata": {},
   "outputs": [],
   "source": [
    "#For SVM best hyperparameters are linear and C=1 , which we have already used "
   ]
  },
  {
   "cell_type": "code",
   "execution_count": 43,
   "metadata": {},
   "outputs": [],
   "source": [
    "svc_tuned = SVC(C=1, kernel='linear')"
   ]
  },
  {
   "cell_type": "code",
   "execution_count": 44,
   "metadata": {},
   "outputs": [
    {
     "name": "stdout",
     "output_type": "stream",
     "text": [
      "Training Accuracy of SVM is 92.691%\n",
      "Testing Accuracy of SVM is 90.397%\n",
      "Confusion matrix of SVM is\n",
      " [[130  18]\n",
      " [ 11 143]]\n",
      "Classification report for SVM is \n",
      "               precision    recall  f1-score   support\n",
      "\n",
      "           0       0.92      0.88      0.90       148\n",
      "           1       0.89      0.93      0.91       154\n",
      "\n",
      "    accuracy                           0.90       302\n",
      "   macro avg       0.91      0.90      0.90       302\n",
      "weighted avg       0.90      0.90      0.90       302\n",
      "\n",
      "Cohen Kappa Score for SVM is [0.8076939967502526]\n",
      "Sensitivity for SVM is 0.8783783783783784\n",
      "Specificity for SVM is 0.9285714285714286\n"
     ]
    }
   ],
   "source": [
    "svc_tuned = svc_tuned.fit(X_train, y_train)\n",
    "label_prediction(svc_tuned, X_test )\n",
    "svm_metrics = calculate_metrics(svc_tuned, X_train, X_test, y_test, y_train)\n",
    "svm_statistics = model_statictics(svm_metrics[2])\n",
    "print_metrics(svm_metrics, 'SVM',svm_statistics )"
   ]
  },
  {
   "cell_type": "markdown",
   "metadata": {},
   "source": [
    "### KNN Parameters Hypertunning"
   ]
  },
  {
   "cell_type": "markdown",
   "metadata": {},
   "source": [
    "**Default hyperparameters of KNN**\n",
    "KNeighborsClassifier(\n",
    "    n_neighbors=5,\n",
    "    *,\n",
    "    weights='uniform',\n",
    "    algorithm='auto',\n",
    "    leaf_size=30,\n",
    "    p=2,\n",
    "    metric='minkowski',\n",
    "    metric_params=None,\n",
    "    n_jobs=None,\n",
    "    **kwargs,\n",
    ")"
   ]
  },
  {
   "cell_type": "code",
   "execution_count": 45,
   "metadata": {},
   "outputs": [
    {
     "name": "stdout",
     "output_type": "stream",
     "text": [
      "{'knn__weights': 'uniform', 'knn__n_neighbors': 7, 'knn__metric': 'minkowski', 'knn__leaf_size': 10, 'knn__algorithm': 'brute'}\n"
     ]
    }
   ],
   "source": [
    "from sklearn.pipeline import Pipeline\n",
    "knn_pipe = Pipeline([\n",
    "   (\"knn\", KNeighborsClassifier(n_jobs=-1))])\n",
    "\n",
    "knn_parameters = {'knn__n_neighbors':[7,17,23,25,27,29,31],\n",
    "              'knn__weights':['uniform', 'distance'],\n",
    "              'knn__metric':['minkowski','euclidean','manhattan'],\n",
    "              'knn__algorithm':['auto', 'ball_tree','kd_tree','brute'],\n",
    "              'knn__leaf_size':[1,2,3,4,5,6,7,8,9,10]\n",
    "             }\n",
    "\n",
    "    \n",
    "rs_knn2 = RandomizedSearchCV(knn_pipe, knn_parameters, cv=10, n_jobs = -1, random_state=42)\n",
    "rs_knn2.fit(X_train, y_train)\n",
    "print(rs_knn2.best_params_)"
   ]
  },
  {
   "cell_type": "code",
   "execution_count": 46,
   "metadata": {},
   "outputs": [],
   "source": [
    "knn_tuned =rs_knn2.best_estimator_"
   ]
  },
  {
   "cell_type": "code",
   "execution_count": 47,
   "metadata": {},
   "outputs": [
    {
     "name": "stdout",
     "output_type": "stream",
     "text": [
      "***********KNN Algorithms Metrics After Hypertunning***********\n",
      "\n",
      "\n",
      "Training Accuracy of KNN is 50.0%\n",
      "Testing Accuracy of KNN is 50.993%\n",
      "Confusion matrix of KNN is\n",
      " [[  0 148]\n",
      " [  0 154]]\n",
      "Classification report for KNN is \n",
      "               precision    recall  f1-score   support\n",
      "\n",
      "           0       0.00      0.00      0.00       148\n",
      "           1       0.51      1.00      0.68       154\n",
      "\n",
      "    accuracy                           0.51       302\n",
      "   macro avg       0.25      0.50      0.34       302\n",
      "weighted avg       0.26      0.51      0.34       302\n",
      "\n",
      "Cohen Kappa Score for KNN is [0.0]\n",
      "Sensitivity for KNN is 0.0\n",
      "Specificity for KNN is 1.0\n"
     ]
    },
    {
     "name": "stderr",
     "output_type": "stream",
     "text": [
      "c:\\users\\sbalani\\appdata\\local\\programs\\python\\python37\\lib\\site-packages\\sklearn\\metrics\\_classification.py:1248: UndefinedMetricWarning: Precision and F-score are ill-defined and being set to 0.0 in labels with no predicted samples. Use `zero_division` parameter to control this behavior.\n",
      "  _warn_prf(average, modifier, msg_start, len(result))\n",
      "c:\\users\\sbalani\\appdata\\local\\programs\\python\\python37\\lib\\site-packages\\sklearn\\metrics\\_classification.py:1248: UndefinedMetricWarning: Precision and F-score are ill-defined and being set to 0.0 in labels with no predicted samples. Use `zero_division` parameter to control this behavior.\n",
      "  _warn_prf(average, modifier, msg_start, len(result))\n",
      "c:\\users\\sbalani\\appdata\\local\\programs\\python\\python37\\lib\\site-packages\\sklearn\\metrics\\_classification.py:1248: UndefinedMetricWarning: Precision and F-score are ill-defined and being set to 0.0 in labels with no predicted samples. Use `zero_division` parameter to control this behavior.\n",
      "  _warn_prf(average, modifier, msg_start, len(result))\n"
     ]
    }
   ],
   "source": [
    "knn_tuned = knn.fit(X_train, y_train)\n",
    "label_prediction(knn_tuned, X_test )\n",
    "knn_metrics = calculate_metrics(knn_tuned, X_train, X_test, y_test, y_train)\n",
    "knn_statistics = model_statictics(knn_metrics[2])\n",
    "print(\"***********KNN Algorithms Metrics After Hypertunning***********\")\n",
    "print(\"\\n\")\n",
    "print_metrics(knn_metrics, 'KNN',knn_statistics )"
   ]
  },
  {
   "cell_type": "markdown",
   "metadata": {},
   "source": [
    "### Decsion Tree Hypertunning"
   ]
  },
  {
   "cell_type": "code",
   "execution_count": 48,
   "metadata": {},
   "outputs": [
    {
     "name": "stdout",
     "output_type": "stream",
     "text": [
      "Fitting 10 folds for each of 10 candidates, totalling 100 fits\n"
     ]
    },
    {
     "data": {
      "text/plain": [
       "RandomizedSearchCV(cv=10, estimator=DecisionTreeClassifier(), n_jobs=-1,\n",
       "                   param_distributions={'criterion': ['gini', 'entropy'],\n",
       "                                        'max_depth': [3, 5, 7, 10],\n",
       "                                        'min_samples_leaf': range(2, 10),\n",
       "                                        'min_samples_split': range(2, 10)},\n",
       "                   verbose=1)"
      ]
     },
     "execution_count": 48,
     "metadata": {},
     "output_type": "execute_result"
    }
   ],
   "source": [
    "dt_tune = DecisionTreeClassifier()\n",
    "rv_params = {\n",
    "    'criterion' : ['gini', 'entropy'],\n",
    "    'max_depth' : [3, 5, 7, 10],\n",
    "    'min_samples_split' : range(2, 10, 1),\n",
    "    'min_samples_leaf' : range(2, 10, 1)\n",
    "}\n",
    "\n",
    "rs_search = RandomizedSearchCV(dt_tune, rv_params, cv = 10, n_jobs = -1, verbose = 1)\n",
    "rs_search.fit(X_train, y_train)"
   ]
  },
  {
   "cell_type": "code",
   "execution_count": 49,
   "metadata": {},
   "outputs": [
    {
     "name": "stdout",
     "output_type": "stream",
     "text": [
      "{'min_samples_split': 8, 'min_samples_leaf': 6, 'max_depth': 3, 'criterion': 'entropy'}\n",
      "0.8771280991735537\n"
     ]
    }
   ],
   "source": [
    "# best parameters and best score\n",
    "\n",
    "print(rs_search.best_params_)\n",
    "print(rs_search.best_score_)"
   ]
  },
  {
   "cell_type": "code",
   "execution_count": 50,
   "metadata": {},
   "outputs": [
    {
     "name": "stdout",
     "output_type": "stream",
     "text": [
      "Training Accuracy of Decision Tree is 88.206%\n",
      "Testing Accuracy of Decision Tree is 88.411%\n",
      "Confusion matrix of Decision Tree is\n",
      " [[124  24]\n",
      " [ 11 143]]\n",
      "Classification report for Decision Tree is \n",
      "               precision    recall  f1-score   support\n",
      "\n",
      "           0       0.92      0.84      0.88       148\n",
      "           1       0.86      0.93      0.89       154\n",
      "\n",
      "    accuracy                           0.88       302\n",
      "   macro avg       0.89      0.88      0.88       302\n",
      "weighted avg       0.89      0.88      0.88       302\n",
      "\n",
      "Cohen Kappa Score for Decision Tree is [0.7677229376345976]\n",
      "Sensitivity for Decision Tree is 0.8378378378378378\n",
      "Specificity for Decision Tree is 0.9285714285714286\n"
     ]
    }
   ],
   "source": [
    "# best estimator \n",
    "dtc_tuned = rs_search.best_estimator_\n",
    "label_prediction(dtc_tuned, X_test )\n",
    "dtc_metrics = calculate_metrics(dtc_tuned, X_train, X_test, y_test, y_train)\n",
    "dtc_statistics = model_statictics(dtc_metrics[2])\n",
    "print_metrics(dtc_metrics,'Decision Tree',dtc_statistics )\n",
    "\n"
   ]
  },
  {
   "cell_type": "markdown",
   "metadata": {},
   "source": [
    "### Random Forest Classifier HyperTunning"
   ]
  },
  {
   "cell_type": "code",
   "execution_count": 51,
   "metadata": {},
   "outputs": [
    {
     "name": "stdout",
     "output_type": "stream",
     "text": [
      "{'n_estimators': 450, 'min_samples_split': 5, 'min_samples_leaf': 4, 'max_features': 'sqrt', 'max_depth': 100, 'class_weight': {0: 0.246667, 1: 0.75333}}\n"
     ]
    }
   ],
   "source": [
    "\n",
    "rand_clf = RandomForestClassifier(n_jobs=-1)\n",
    "\n",
    "rand_params = {'max_depth': [10, 20, 30, 40, 50, 60, 70, 80, 90, 100, None],\n",
    "               \n",
    "             'min_samples_leaf': [1, 2, 3, 4, 5],\n",
    "             'min_samples_split': [2, 5, 7, 9, 11],\n",
    "             'max_features': ['auto', 'sqrt'],\n",
    "             'n_estimators': [100, 150, 200, 250, 300, 350, 400, 450, 500],\n",
    "             'class_weight':[{0:0.246667, 1:0.75333},None]\n",
    "              }\n",
    "\n",
    "\n",
    "    \n",
    "rand_rs = RandomizedSearchCV(rand_clf, rand_params, cv=10, n_jobs = -1, random_state=42)\n",
    "rand_rs.fit(X_train, y_train)\n",
    "print(rand_rs.best_params_)"
   ]
  },
  {
   "cell_type": "code",
   "execution_count": 52,
   "metadata": {},
   "outputs": [
    {
     "name": "stdout",
     "output_type": "stream",
     "text": [
      "Training Accuracy of Random Forest Tree is 95.1%\n",
      "Testing Accuracy of Random Forest Tree is 88.742%\n",
      "Confusion matrix of Random Forest Tree is\n",
      " [[125  23]\n",
      " [ 11 143]]\n",
      "Classification report for Random Forest Tree is \n",
      "               precision    recall  f1-score   support\n",
      "\n",
      "           0       0.92      0.84      0.88       148\n",
      "           1       0.86      0.93      0.89       154\n",
      "\n",
      "    accuracy                           0.89       302\n",
      "   macro avg       0.89      0.89      0.89       302\n",
      "weighted avg       0.89      0.89      0.89       302\n",
      "\n",
      "Cohen Kappa Score for Random Forest Tree is [0.7743891720864827]\n",
      "Sensitivity for Random Forest Tree is 0.8445945945945946\n",
      "Specificity for Random Forest Tree is 0.9285714285714286\n"
     ]
    }
   ],
   "source": [
    "rand_tuned = rand_rs.best_estimator_\n",
    "\n",
    "#y_pred = rand_clf.predict(X_test)\n",
    "label_prediction(rand_tuned, X_test )\n",
    "randforest_metrics = calculate_metrics(rand_tuned, X_train, X_test, y_test, y_train)\n",
    "rand_statistics = model_statictics(randforest_metrics[2])\n",
    "print_metrics(randforest_metrics, 'Random Forest Tree', rand_statistics)\n"
   ]
  },
  {
   "cell_type": "code",
   "execution_count": 53,
   "metadata": {},
   "outputs": [],
   "source": [
    "## Accuracy and other parameters obtained by decision tree can be improved by using hyperparameter tunning"
   ]
  },
  {
   "cell_type": "code",
   "execution_count": 66,
   "metadata": {},
   "outputs": [
    {
     "name": "stderr",
     "output_type": "stream",
     "text": [
      "c:\\users\\sbalani\\appdata\\local\\programs\\python\\python37\\lib\\site-packages\\xgboost\\sklearn.py:1224: UserWarning: The use of label encoder in XGBClassifier is deprecated and will be removed in a future release. To remove this warning, do the following: 1) Pass option use_label_encoder=False when constructing XGBClassifier object; and 2) Encode your labels (y) as integers starting with 0, i.e. 0, 1, 2, ..., [num_class - 1].\n",
      "  warnings.warn(label_encoder_deprecation_msg, UserWarning)\n"
     ]
    },
    {
     "name": "stdout",
     "output_type": "stream",
     "text": [
      "[16:42:58] WARNING: C:/Users/Administrator/workspace/xgboost-win64_release_1.5.0/src/learner.cc:1115: Starting in XGBoost 1.3.0, the default evaluation metric used with the objective 'binary:logistic' was changed from 'error' to 'logloss'. Explicitly set eval_metric if you'd like to restore the old behavior.\n",
      "{'reg_lambda': 0.01, 'reg_alpha': 0.5, 'n_estimators': 650, 'max_depth': 5, 'gamma': 2, 'eta': 0.1}\n"
     ]
    }
   ],
   "source": [
    "from xgboost import XGBClassifier\n",
    "xg = XGBClassifier(booster='gbtree', n_jobs=-1)\n",
    "\n",
    "xg_values = {'max_depth': [3, 4, 5, 6],\n",
    "             'eta': [0.05, 0.1, 0.15, 0.3],\n",
    "             'reg_lambda': [0.01, 0.05, 0.1, 0.5, 1],\n",
    "             'reg_alpha': [0.01, 0.05, 0.1, 0.5, 1],\n",
    "             'gamma': [0, 1, 2, 3],\n",
    "             'n_estimators': [150, 250, 350, 450, 500, 550, 600, 650],\n",
    "             \n",
    "              }\n",
    "\n",
    "\n",
    "    \n",
    "rs_xg3 = RandomizedSearchCV(xg, xg_values, cv=10, n_jobs = -1, random_state=42)\n",
    "rs_xg3.fit(X_train, y_train)\n",
    "print(rs_xg3.best_params_)"
   ]
  },
  {
   "cell_type": "code",
   "execution_count": 67,
   "metadata": {},
   "outputs": [
    {
     "name": "stdout",
     "output_type": "stream",
     "text": [
      "Training Accuracy of XG Boost Classifier is 100.0%\n",
      "Testing Accuracy of XG Boost Classifier is 87.748%\n",
      "Confusion matrix of XG Boost Classifier is\n",
      " [[133  15]\n",
      " [ 22 132]]\n",
      "Classification report for XG Boost Classifier is \n",
      "               precision    recall  f1-score   support\n",
      "\n",
      "           0       0.86      0.90      0.88       148\n",
      "           1       0.90      0.86      0.88       154\n",
      "\n",
      "    accuracy                           0.88       302\n",
      "   macro avg       0.88      0.88      0.88       302\n",
      "weighted avg       0.88      0.88      0.88       302\n",
      "\n",
      "Cohen Kappa Score for XG Boost Classifier is [0.7945397884387482]\n",
      "Sensitivity for XG Boost Classifier is 0.8851351351351351\n",
      "Specificity for XG Boost Classifier is 0.9090909090909091\n"
     ]
    }
   ],
   "source": [
    "Xg_clf = rs_xg3.best_estimator_\n",
    "\n",
    "#y_pred = rand_clf.predict(X_test)\n",
    "label_prediction(Xg_clf, X_test )\n",
    "XG_metrics = calculate_metrics(Xg_clf, X_train, X_test, y_test, y_train)\n",
    "XG_statistics = model_statictics(XG_metrics[2])\n",
    "print_metrics(randforest_metrics, 'XG Boost Classifier', XG_statistics)"
   ]
  },
  {
   "cell_type": "code",
   "execution_count": 363,
   "metadata": {},
   "outputs": [],
   "source": [
    "### ROC, AUC Curve"
   ]
  },
  {
   "cell_type": "code",
   "execution_count": 57,
   "metadata": {},
   "outputs": [],
   "source": [
    "\n",
    "y_pred_svm = svc_tuned.decision_function(X_test)\n",
    "svm_fpr,svm_tpr, svm_threshold = roc_curve(y_test, y_pred_svm)\n",
    "auc_svm = auc(svm_fpr, svm_tpr)\n"
   ]
  },
  {
   "cell_type": "code",
   "execution_count": 61,
   "metadata": {},
   "outputs": [],
   "source": [
    "from sklearn.metrics import precision_recall_curve\n",
    "svm_precision, svm_recall, _ = precision_recall_curve(y_test, y_pred_svm)"
   ]
  },
  {
   "cell_type": "code",
   "execution_count": 64,
   "metadata": {},
   "outputs": [],
   "source": [
    "def calculate_roc_auc(model, X_test,y_test):\n",
    "    predict_prob = model.predict_proba(X_test)\n",
    "    FPR, TPR, Threshold = roc_curve(y_test, predict_prob[:,1], pos_label=1)\n",
    "    model_auc_score = roc_auc_score(y_test, predict_prob[:,1])\n",
    "    return FPR, TPR, Threshold, model_auc_score\n",
    "    "
   ]
  },
  {
   "cell_type": "code",
   "execution_count": 67,
   "metadata": {},
   "outputs": [],
   "source": [
    "def calculate_PRC(model, X_test,y_test):\n",
    "    predict_prob = model.predict_proba(X_test)\n",
    "    precision,recall, _ = precision_recall_curve(y_test, predict_prob[:,1])\n",
    "    return precision, recall,_"
   ]
  },
  {
   "cell_type": "code",
   "execution_count": 68,
   "metadata": {},
   "outputs": [
    {
     "ename": "ValueError",
     "evalue": "too many values to unpack (expected 3)",
     "output_type": "error",
     "traceback": [
      "\u001b[1;31m---------------------------------------------------------------------------\u001b[0m",
      "\u001b[1;31mValueError\u001b[0m                                Traceback (most recent call last)",
      "\u001b[1;32m<ipython-input-68-eb166ae685f6>\u001b[0m in \u001b[0;36m<module>\u001b[1;34m\u001b[0m\n\u001b[1;32m----> 1\u001b[1;33m \u001b[0mprecision_knn\u001b[0m\u001b[1;33m,\u001b[0m \u001b[0mrecall_knn\u001b[0m\u001b[1;33m,\u001b[0m\u001b[0m_\u001b[0m \u001b[1;33m=\u001b[0m \u001b[0mcalculate_roc_auc\u001b[0m\u001b[1;33m(\u001b[0m\u001b[0mknn_tuned\u001b[0m\u001b[1;33m,\u001b[0m \u001b[0mX_test\u001b[0m\u001b[1;33m,\u001b[0m\u001b[0my_test\u001b[0m\u001b[1;33m)\u001b[0m\u001b[1;33m\u001b[0m\u001b[1;33m\u001b[0m\u001b[0m\n\u001b[0m",
      "\u001b[1;31mValueError\u001b[0m: too many values to unpack (expected 3)"
     ]
    }
   ],
   "source": [
    "precision_knn, recall_knn,_ = calculate_roc_auc(knn_tuned, X_test,y_test)"
   ]
  },
  {
   "cell_type": "code",
   "execution_count": 59,
   "metadata": {},
   "outputs": [
    {
     "data": {
      "image/png": "[encoded data removed]",
      "text/plain": [
       "<Figure size 576x396 with 1 Axes>"
      ]
     },
     "metadata": {},
     "output_type": "display_data"
    }
   ],
   "source": [
    "plt.style.use('seaborn')\n",
    "FPR_knn, TPR_knn, Threshold_knn, model_auc_score_knn = calculate_roc_auc(knn_tuned,X_test,y_test)\n",
    "plt.plot(FPR_knn, TPR_knn, linestyle='--',color='blue', label='KNN (auc = %0.3f)'% model_auc_score_knn )\n",
    "FPR_rand, TPR_rand, Threshold_rand, model_auc_score_rand = calculate_roc_auc(rand_tuned,X_test,y_test)\n",
    "plt.plot(FPR_rand, TPR_rand, linestyle='--',color='red', label='Random Forest (auc = %0.3f)'% model_auc_score_rand)\n",
    "FPR_dtc, TPR_dtc, Threshold_dtc, model_auc_score_dtc = calculate_roc_auc(dtc_tuned,X_test,y_test)\n",
    "plt.plot(FPR_dtc, TPR_dtc, linestyle='--',color='orange', label='Decision Tree (auc = %0.3f)'% model_auc_score_dtc)\n",
    "plt.plot(svm_fpr, svm_tpr, linestyle='--',color='green',label='SVM (auc = %0.3f)' % auc_svm)\n",
    "plt.title('ROC curve')\n",
    "plt.xlabel('False Positive Rate')\n",
    "plt.ylabel('True Positive rate')\n",
    "plt.legend(loc='best')   \n",
    "plt.savefig('ROC',dpi=300)\n",
    "plt.show()"
   ]
  },
  {
   "cell_type": "code",
   "execution_count": null,
   "metadata": {},
   "outputs": [],
   "source": []
  },
  {
   "cell_type": "code",
   "execution_count": 313,
   "metadata": {},
   "outputs": [],
   "source": [
    "##auc_svm = auc(svm_fpr, svm_tpr)\n",
    "##decision_function tells how far point is from classification frame"
   ]
  },
  {
   "cell_type": "code",
   "execution_count": 347,
   "metadata": {},
   "outputs": [],
   "source": [
    "##plt.figure(figsize=(5,5),dpi=100)\n",
    "##plt.plot(svm_fpr, svm_tpr, linestyle='-',label='SVM (auc = %0.3f)' % auc_svm)"
   ]
  },
  {
   "cell_type": "code",
   "execution_count": 289,
   "metadata": {},
   "outputs": [],
   "source": [
    "# predict probabilities\n",
    "#pred_prob1 = rand_clf.predict_proba(X_test)\n",
    "#pred_prob2 = dtc_estimator.predict_proba(X_test)"
   ]
  },
  {
   "cell_type": "code",
   "execution_count": 299,
   "metadata": {},
   "outputs": [],
   "source": [
    "# roc curve for models\n",
    "#fpr1, tpr1, thresh1 = roc_curve(y_test, pred_prob1[:,1], pos_label=1)\n",
    "#fpr2, tpr2, thresh2 = roc_curve(y_test, pred_prob2[:,1], pos_label=1)\n",
    "\n",
    "# roc curve for tpr = fpr \n",
    "#random_probs = [0 for i in range(len(y_test))]\n",
    "#p_fpr, p_tpr, _ = roc_curve(y_test, random_probs, pos_label=1)"
   ]
  },
  {
   "cell_type": "code",
   "execution_count": 351,
   "metadata": {},
   "outputs": [],
   "source": [
    "\n",
    "\n",
    "# auc scores\n",
    "#auc_score1 = roc_auc_score(y_test, pred_prob1[:,1])\n",
    "#auc_score2 = roc_auc_score(y_test, pred_prob2[:,1])\n",
    "\n",
    "#print(auc_score1, auc_score2)"
   ]
  },
  {
   "cell_type": "code",
   "execution_count": null,
   "metadata": {},
   "outputs": [],
   "source": []
  }
 ],
 "metadata": {
  "kernelspec": {
   "display_name": "Python 3",
   "language": "python",
   "name": "python3"
  },
  "language_info": {
   "codemirror_mode": {
    "name": "ipython",
    "version": 3
   },
   "file_extension": ".py",
   "mimetype": "text/x-python",
   "name": "python",
   "nbconvert_exporter": "python",
   "pygments_lexer": "ipython3",
   "version": "3.7.4"
  }
 },
 "nbformat": 4,
 "nbformat_minor": 4
}
